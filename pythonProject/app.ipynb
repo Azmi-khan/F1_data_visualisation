{
 "cells": [
  {
   "metadata": {},
   "cell_type": "markdown",
   "source": "# adding the libraries and create a cache folder",
   "id": "80c7f89e7a641183"
  },
  {
   "cell_type": "code",
   "id": "initial_id",
   "metadata": {
    "collapsed": true,
    "ExecuteTime": {
     "end_time": "2025-10-16T13:59:27.881323Z",
     "start_time": "2025-10-16T13:59:27.584295Z"
    }
   },
   "source": [
    "import fastf1\n",
    "import os\n",
    "from fastf1 import plotting\n",
    "import pandas as pd\n",
    "import matplotlib.pyplot as plt\n",
    "import plotly.express as px\n",
    "\n",
    "CACHE_DIR = 'cache'\n",
    "os.makedirs(CACHE_DIR, exist_ok=True)\n",
    "\n",
    "\n",
    "fastf1.Cache.enable_cache(\"cache\")\n",
    "plotting.setup_mpl()\n",
    "print(f\"Cache directory ready at: {os.path.abspath(CACHE_DIR)}\")"
   ],
   "outputs": [
    {
     "name": "stdout",
     "output_type": "stream",
     "text": [
      "Cache directory ready at: D:\\f_1\\pythonProject\\cache\n"
     ]
    }
   ],
   "execution_count": 62
  },
  {
   "metadata": {},
   "cell_type": "markdown",
   "source": "# Load race data",
   "id": "d7be932ca0d29370"
  },
  {
   "metadata": {
    "ExecuteTime": {
     "end_time": "2025-10-16T13:59:45.711378Z",
     "start_time": "2025-10-16T13:59:27.915517Z"
    }
   },
   "cell_type": "code",
   "source": [
    "race = fastf1.get_session(2023, \"Monaco\", \"r\")\n",
    "race.load()\n",
    "laps = race.laps\n",
    "laps.head()"
   ],
   "id": "96fbbb8a417dc4d4",
   "outputs": [
    {
     "name": "stderr",
     "output_type": "stream",
     "text": [
      "core           INFO \tLoading data for Monaco Grand Prix - Race [v3.6.1]\n",
      "req            INFO \tUsing cached data for session_info\n",
      "req            INFO \tUsing cached data for driver_info\n",
      "req            INFO \tUsing cached data for session_status_data\n",
      "req            INFO \tUsing cached data for lap_count\n",
      "req            INFO \tUsing cached data for track_status_data\n",
      "req            INFO \tUsing cached data for _extended_timing_data\n",
      "req            INFO \tUsing cached data for timing_app_data\n",
      "core           INFO \tProcessing timing data...\n",
      "req            INFO \tUsing cached data for car_data\n",
      "req            INFO \tUsing cached data for position_data\n",
      "req            INFO \tUsing cached data for weather_data\n",
      "req            INFO \tUsing cached data for race_control_messages\n",
      "core           INFO \tFinished loading data for 20 drivers: ['1', '14', '31', '44', '63', '16', '10', '55', '4', '81', '77', '21', '24', '23', '22', '11', '27', '2', '20', '18']\n"
     ]
    },
    {
     "data": {
      "text/plain": [
       "                    Time Driver DriverNumber                LapTime  \\\n",
       "0 0 days 01:03:27.435000    VER            1 0 days 00:01:24.238000   \n",
       "1 0 days 01:04:46.802000    VER            1 0 days 00:01:19.367000   \n",
       "2 0 days 01:06:05.876000    VER            1 0 days 00:01:19.074000   \n",
       "3 0 days 01:07:24.005000    VER            1 0 days 00:01:18.129000   \n",
       "4 0 days 01:08:42.024000    VER            1 0 days 00:01:18.019000   \n",
       "\n",
       "   LapNumber  Stint PitOutTime PitInTime            Sector1Time  \\\n",
       "0        1.0    1.0        NaT       NaT                    NaT   \n",
       "1        2.0    1.0        NaT       NaT 0 days 00:00:20.954000   \n",
       "2        3.0    1.0        NaT       NaT 0 days 00:00:20.854000   \n",
       "3        4.0    1.0        NaT       NaT 0 days 00:00:20.835000   \n",
       "4        5.0    1.0        NaT       NaT 0 days 00:00:20.745000   \n",
       "\n",
       "             Sector2Time  ... FreshTyre             Team  \\\n",
       "0 0 days 00:00:37.420000  ...      True  Red Bull Racing   \n",
       "1 0 days 00:00:37.366000  ...      True  Red Bull Racing   \n",
       "2 0 days 00:00:37.288000  ...      True  Red Bull Racing   \n",
       "3 0 days 00:00:36.637000  ...      True  Red Bull Racing   \n",
       "4 0 days 00:00:36.734000  ...      True  Red Bull Racing   \n",
       "\n",
       "            LapStartTime            LapStartDate  TrackStatus  Position  \\\n",
       "0 0 days 01:02:02.950000 2023-05-28 13:03:03.927           12       1.0   \n",
       "1 0 days 01:03:27.435000 2023-05-28 13:04:28.412            1       1.0   \n",
       "2 0 days 01:04:46.802000 2023-05-28 13:05:47.779            1       1.0   \n",
       "3 0 days 01:06:05.876000 2023-05-28 13:07:06.853            1       1.0   \n",
       "4 0 days 01:07:24.005000 2023-05-28 13:08:24.982            1       1.0   \n",
       "\n",
       "   Deleted  DeletedReason FastF1Generated IsAccurate  \n",
       "0    False                          False      False  \n",
       "1    False                          False       True  \n",
       "2    False                          False       True  \n",
       "3    False                          False       True  \n",
       "4    False                          False       True  \n",
       "\n",
       "[5 rows x 31 columns]"
      ],
      "text/html": [
       "<div>\n",
       "<style scoped>\n",
       "    .dataframe tbody tr th:only-of-type {\n",
       "        vertical-align: middle;\n",
       "    }\n",
       "\n",
       "    .dataframe tbody tr th {\n",
       "        vertical-align: top;\n",
       "    }\n",
       "\n",
       "    .dataframe thead th {\n",
       "        text-align: right;\n",
       "    }\n",
       "</style>\n",
       "<table border=\"1\" class=\"dataframe\">\n",
       "  <thead>\n",
       "    <tr style=\"text-align: right;\">\n",
       "      <th></th>\n",
       "      <th>Time</th>\n",
       "      <th>Driver</th>\n",
       "      <th>DriverNumber</th>\n",
       "      <th>LapTime</th>\n",
       "      <th>LapNumber</th>\n",
       "      <th>Stint</th>\n",
       "      <th>PitOutTime</th>\n",
       "      <th>PitInTime</th>\n",
       "      <th>Sector1Time</th>\n",
       "      <th>Sector2Time</th>\n",
       "      <th>...</th>\n",
       "      <th>FreshTyre</th>\n",
       "      <th>Team</th>\n",
       "      <th>LapStartTime</th>\n",
       "      <th>LapStartDate</th>\n",
       "      <th>TrackStatus</th>\n",
       "      <th>Position</th>\n",
       "      <th>Deleted</th>\n",
       "      <th>DeletedReason</th>\n",
       "      <th>FastF1Generated</th>\n",
       "      <th>IsAccurate</th>\n",
       "    </tr>\n",
       "  </thead>\n",
       "  <tbody>\n",
       "    <tr>\n",
       "      <th>0</th>\n",
       "      <td>0 days 01:03:27.435000</td>\n",
       "      <td>VER</td>\n",
       "      <td>1</td>\n",
       "      <td>0 days 00:01:24.238000</td>\n",
       "      <td>1.0</td>\n",
       "      <td>1.0</td>\n",
       "      <td>NaT</td>\n",
       "      <td>NaT</td>\n",
       "      <td>NaT</td>\n",
       "      <td>0 days 00:00:37.420000</td>\n",
       "      <td>...</td>\n",
       "      <td>True</td>\n",
       "      <td>Red Bull Racing</td>\n",
       "      <td>0 days 01:02:02.950000</td>\n",
       "      <td>2023-05-28 13:03:03.927</td>\n",
       "      <td>12</td>\n",
       "      <td>1.0</td>\n",
       "      <td>False</td>\n",
       "      <td></td>\n",
       "      <td>False</td>\n",
       "      <td>False</td>\n",
       "    </tr>\n",
       "    <tr>\n",
       "      <th>1</th>\n",
       "      <td>0 days 01:04:46.802000</td>\n",
       "      <td>VER</td>\n",
       "      <td>1</td>\n",
       "      <td>0 days 00:01:19.367000</td>\n",
       "      <td>2.0</td>\n",
       "      <td>1.0</td>\n",
       "      <td>NaT</td>\n",
       "      <td>NaT</td>\n",
       "      <td>0 days 00:00:20.954000</td>\n",
       "      <td>0 days 00:00:37.366000</td>\n",
       "      <td>...</td>\n",
       "      <td>True</td>\n",
       "      <td>Red Bull Racing</td>\n",
       "      <td>0 days 01:03:27.435000</td>\n",
       "      <td>2023-05-28 13:04:28.412</td>\n",
       "      <td>1</td>\n",
       "      <td>1.0</td>\n",
       "      <td>False</td>\n",
       "      <td></td>\n",
       "      <td>False</td>\n",
       "      <td>True</td>\n",
       "    </tr>\n",
       "    <tr>\n",
       "      <th>2</th>\n",
       "      <td>0 days 01:06:05.876000</td>\n",
       "      <td>VER</td>\n",
       "      <td>1</td>\n",
       "      <td>0 days 00:01:19.074000</td>\n",
       "      <td>3.0</td>\n",
       "      <td>1.0</td>\n",
       "      <td>NaT</td>\n",
       "      <td>NaT</td>\n",
       "      <td>0 days 00:00:20.854000</td>\n",
       "      <td>0 days 00:00:37.288000</td>\n",
       "      <td>...</td>\n",
       "      <td>True</td>\n",
       "      <td>Red Bull Racing</td>\n",
       "      <td>0 days 01:04:46.802000</td>\n",
       "      <td>2023-05-28 13:05:47.779</td>\n",
       "      <td>1</td>\n",
       "      <td>1.0</td>\n",
       "      <td>False</td>\n",
       "      <td></td>\n",
       "      <td>False</td>\n",
       "      <td>True</td>\n",
       "    </tr>\n",
       "    <tr>\n",
       "      <th>3</th>\n",
       "      <td>0 days 01:07:24.005000</td>\n",
       "      <td>VER</td>\n",
       "      <td>1</td>\n",
       "      <td>0 days 00:01:18.129000</td>\n",
       "      <td>4.0</td>\n",
       "      <td>1.0</td>\n",
       "      <td>NaT</td>\n",
       "      <td>NaT</td>\n",
       "      <td>0 days 00:00:20.835000</td>\n",
       "      <td>0 days 00:00:36.637000</td>\n",
       "      <td>...</td>\n",
       "      <td>True</td>\n",
       "      <td>Red Bull Racing</td>\n",
       "      <td>0 days 01:06:05.876000</td>\n",
       "      <td>2023-05-28 13:07:06.853</td>\n",
       "      <td>1</td>\n",
       "      <td>1.0</td>\n",
       "      <td>False</td>\n",
       "      <td></td>\n",
       "      <td>False</td>\n",
       "      <td>True</td>\n",
       "    </tr>\n",
       "    <tr>\n",
       "      <th>4</th>\n",
       "      <td>0 days 01:08:42.024000</td>\n",
       "      <td>VER</td>\n",
       "      <td>1</td>\n",
       "      <td>0 days 00:01:18.019000</td>\n",
       "      <td>5.0</td>\n",
       "      <td>1.0</td>\n",
       "      <td>NaT</td>\n",
       "      <td>NaT</td>\n",
       "      <td>0 days 00:00:20.745000</td>\n",
       "      <td>0 days 00:00:36.734000</td>\n",
       "      <td>...</td>\n",
       "      <td>True</td>\n",
       "      <td>Red Bull Racing</td>\n",
       "      <td>0 days 01:07:24.005000</td>\n",
       "      <td>2023-05-28 13:08:24.982</td>\n",
       "      <td>1</td>\n",
       "      <td>1.0</td>\n",
       "      <td>False</td>\n",
       "      <td></td>\n",
       "      <td>False</td>\n",
       "      <td>True</td>\n",
       "    </tr>\n",
       "  </tbody>\n",
       "</table>\n",
       "<p>5 rows × 31 columns</p>\n",
       "</div>"
      ]
     },
     "execution_count": 63,
     "metadata": {},
     "output_type": "execute_result"
    }
   ],
   "execution_count": 63
  },
  {
   "metadata": {},
   "cell_type": "markdown",
   "source": "# Basic Data Exploration",
   "id": "459aa87c9d54fd76"
  },
  {
   "metadata": {
    "ExecuteTime": {
     "end_time": "2025-10-16T13:59:45.759759Z",
     "start_time": "2025-10-16T13:59:45.736757Z"
    }
   },
   "cell_type": "code",
   "source": [
    "laps_summary = laps.groupby(\"Driver\")[\"LapNumber\"].max().sort_values(ascending=False)\n",
    "print(laps_summary)"
   ],
   "id": "885ac734e05696bb",
   "outputs": [
    {
     "name": "stdout",
     "output_type": "stream",
     "text": [
      "Driver\n",
      "ALO    78.0\n",
      "LEC    78.0\n",
      "HAM    78.0\n",
      "GAS    78.0\n",
      "SAI    78.0\n",
      "VER    78.0\n",
      "RUS    78.0\n",
      "OCO    78.0\n",
      "DEV    77.0\n",
      "BOT    77.0\n",
      "ALB    77.0\n",
      "NOR    77.0\n",
      "ZHO    77.0\n",
      "PIA    77.0\n",
      "HUL    76.0\n",
      "PER    76.0\n",
      "TSU    76.0\n",
      "SAR    76.0\n",
      "MAG    71.0\n",
      "STR    54.0\n",
      "Name: LapNumber, dtype: float64\n"
     ]
    }
   ],
   "execution_count": 64
  },
  {
   "metadata": {},
   "cell_type": "markdown",
   "source": "# lap time comparission between drivers",
   "id": "ec6445ca860583b2"
  },
  {
   "metadata": {
    "ExecuteTime": {
     "end_time": "2025-10-16T13:59:45.977733Z",
     "start_time": "2025-10-16T13:59:45.829417Z"
    }
   },
   "cell_type": "code",
   "source": [
    "laps[\"LapTimeSeconds\"] = laps[\"LapTime\"].dt.total_seconds()\n",
    "drivers = [\"VER\", \"ALO\", \"HAM\", \"OCO\", \"RUS\", \"LEC\"]\n",
    "cleaned = laps[laps[\"Driver\"].isin(drivers)]\n",
    "\n",
    "fig = px.box(\n",
    "    cleaned,\n",
    "    x = \"Driver\",\n",
    "    y = \"LapTimeSeconds\",\n",
    "    points = \"all\",\n",
    "    color = \"Driver\",\n",
    "    title = \"lap time distribution by driver (2023 Monaco GP)\",\n",
    "    labels = {'LapTimeSeconds': 'Lap Time (s)', 'Driver': 'Driver'}\n",
    ")\n",
    "fig.show()"
   ],
   "id": "98644f8b106c1d3f",
   "outputs": [
    {
     "data": {
      "application/vnd.plotly.v1+json": {
       "data": [
        {
         "alignmentgroup": "True",
         "boxpoints": "all",
         "hovertemplate": "Driver=%{x}<br>Lap Time (s)=%{y}<extra></extra>",
         "legendgroup": "VER",
         "marker": {
          "color": "#000001"
         },
         "name": "VER",
         "notched": false,
         "offsetgroup": "VER",
         "orientation": "v",
         "showlegend": true,
         "x": [
          "VER",
          "VER",
          "VER",
          "VER",
          "VER",
          "VER",
          "VER",
          "VER",
          "VER",
          "VER",
          "VER",
          "VER",
          "VER",
          "VER",
          "VER",
          "VER",
          "VER",
          "VER",
          "VER",
          "VER",
          "VER",
          "VER",
          "VER",
          "VER",
          "VER",
          "VER",
          "VER",
          "VER",
          "VER",
          "VER",
          "VER",
          "VER",
          "VER",
          "VER",
          "VER",
          "VER",
          "VER",
          "VER",
          "VER",
          "VER",
          "VER",
          "VER",
          "VER",
          "VER",
          "VER",
          "VER",
          "VER",
          "VER",
          "VER",
          "VER",
          "VER",
          "VER",
          "VER",
          "VER",
          "VER",
          "VER",
          "VER",
          "VER",
          "VER",
          "VER",
          "VER",
          "VER",
          "VER",
          "VER",
          "VER",
          "VER",
          "VER",
          "VER",
          "VER",
          "VER",
          "VER",
          "VER",
          "VER",
          "VER",
          "VER",
          "VER",
          "VER",
          "VER"
         ],
         "x0": " ",
         "xaxis": "x",
         "y": {
          "dtype": "f8",
          "bdata": "rBxaZDsPVUBzaJHtfNdTQNv5fmq8xFNAx0s3iUGIU0Dwp8ZLN4FTQClcj8L1aFNAjZduEoNoU0DFILByaFlTQESLbOf7QVNATDeJQWBFU0D0/dR46TZTQGQ730+NP1NAsp3vp8ZbU0Bcj8L1KERTQJMYBFYORVNA2/l+arw0U0DXo3A9CjdTQCGwcmiRLVNA6SYxCKw0U0AEVg4tsk1TQAisHFpkM1NAGQRWDi0qU0Atsp3vpyZTQFCNl24SM1NAwcqhRbZLU0AhsHJokU1TQH9qvHSTUFNA4XoUrkdxU0Dy0k1iEIBTQArXo3A9ilNAgZVDi2yvU0BOYhBYObRTQAaBlUOLvFNAiUFg5dCCU0Coxks3iYFTQHWTGARWflNAtvP91HhRU0ArhxbZzkdTQOf7qfHSPVNA/Knx0k1KU0Aj2/l+ajxTQDMzMzMzM1NAEoPAyqE9U0CR7Xw/NS5TQL6fGi/dLFNAzczMzMxEU0AK16NwPUpTQFyPwvUoRFNACKwcWmRbU0BqvHSTGFRTQBfZzvdTW1NAbef7qfECVUCJQWDl0HpWQAaBlUOLvFhAoBov3SRSYECq8dJNYohaQARWDi2y3VlAwcqhRbazWUC0yHa+n/JZQMP1KFyPYllAXrpJDAIzWUDFILByaNFYQNejcD0K51hAnu+nxkuXWEAK16NwPUpYQArXo3A9gldAbef7qfE6V0AZBFYOLWpXQAIrhxbZ5lZAVg4tsp3PVkCsHFpkO5dWQH0/NV66mVZAYhBYObQYVkCe76fGS7dVQP7UeOkmYVVATmIQWDlUVUA9CtejcF1VQL6fGi/dTFVA"
         },
         "y0": " ",
         "yaxis": "y",
         "type": "box"
        },
        {
         "alignmentgroup": "True",
         "boxpoints": "all",
         "hovertemplate": "Driver=%{x}<br>Lap Time (s)=%{y}<extra></extra>",
         "legendgroup": "ALO",
         "marker": {
          "color": "#000002"
         },
         "name": "ALO",
         "notched": false,
         "offsetgroup": "ALO",
         "orientation": "v",
         "showlegend": true,
         "x": [
          "ALO",
          "ALO",
          "ALO",
          "ALO",
          "ALO",
          "ALO",
          "ALO",
          "ALO",
          "ALO",
          "ALO",
          "ALO",
          "ALO",
          "ALO",
          "ALO",
          "ALO",
          "ALO",
          "ALO",
          "ALO",
          "ALO",
          "ALO",
          "ALO",
          "ALO",
          "ALO",
          "ALO",
          "ALO",
          "ALO",
          "ALO",
          "ALO",
          "ALO",
          "ALO",
          "ALO",
          "ALO",
          "ALO",
          "ALO",
          "ALO",
          "ALO",
          "ALO",
          "ALO",
          "ALO",
          "ALO",
          "ALO",
          "ALO",
          "ALO",
          "ALO",
          "ALO",
          "ALO",
          "ALO",
          "ALO",
          "ALO",
          "ALO",
          "ALO",
          "ALO",
          "ALO",
          "ALO",
          "ALO",
          "ALO",
          "ALO",
          "ALO",
          "ALO",
          "ALO",
          "ALO",
          "ALO",
          "ALO",
          "ALO",
          "ALO",
          "ALO",
          "ALO",
          "ALO",
          "ALO",
          "ALO",
          "ALO",
          "ALO",
          "ALO",
          "ALO",
          "ALO",
          "ALO",
          "ALO",
          "ALO"
         ],
         "x0": " ",
         "xaxis": "x",
         "y": {
          "dtype": "f8",
          "bdata": "fT81XrphVUDTTWIQWOlTQKwcWmQ7x1NAi2zn+6mxU0BqvHSTGHxTQLByaJHtfFNAuB6F61FgU0AbL90kBllTQCcxCKwcclNA2/l+arxUU0AOLbKd709TQBKDwMqhZVNAMQisHFqcU0CNl24Sg2BTQCPb+X5qXFNAexSuR+FKU0Db+X5qvGxTQG8Sg8DKYVNAjZduEoNQU0C4HoXrUUhTQNEi2/l+alNA+FPjpZt8U0DFILByaFFTQArXo3A9UlNAz/dT46VLU0AbL90kBklTQDvfT42XTlNAhxbZzvdjU0DJdr6fGkdTQPYoXI/CPVNAf2q8dJNQU0BU46WbxGhTQE5iEFg5dFNAXrpJDALTU0B/arx0k6hTQPLSTWIQeFNAdZMYBFZ+U0AbL90kBklTQIXrUbgebVNAuB6F61FoU0AbL90kBkFTQLx0kxgELlNAQmDl0CIrU0CJQWDl0DpTQLpJDAIrN1NAnu+nxktHU0D0/dR46UZTQN0kBoGVO1NAc2iR7Xw/U0AnMQisHFpTQIGVQ4ts/1NA2c73U+M9VUC6SQwCK7dWQJZDi2znk1tAcT0K16OoX0BEi2zn+yFbQHe+nxovpVlADAIrhxZRWUDFILByaDlZQEa28/3UKFlASgwCK4euWUDZzvdT4x1ZQG3n+6nx6lhAcT0K16OIWEApXI/C9WhYQGiR7Xw/FVhAhetRuB5NV0Dn+6nx0jVXQJ7vp8ZLd1dAH4XrUbjOVkDP91PjpcNWQIlBYOXQWlZAoBov3SSWVkBI4XoUrs9VQM3MzMzMbFVA3SQGgZW7VUC+nxov3SxVQJhuEoPAalVA"
         },
         "y0": " ",
         "yaxis": "y",
         "type": "box"
        },
        {
         "alignmentgroup": "True",
         "boxpoints": "all",
         "hovertemplate": "Driver=%{x}<br>Lap Time (s)=%{y}<extra></extra>",
         "legendgroup": "LEC",
         "marker": {
          "color": "#000003"
         },
         "name": "LEC",
         "notched": false,
         "offsetgroup": "LEC",
         "orientation": "v",
         "showlegend": true,
         "x": [
          "LEC",
          "LEC",
          "LEC",
          "LEC",
          "LEC",
          "LEC",
          "LEC",
          "LEC",
          "LEC",
          "LEC",
          "LEC",
          "LEC",
          "LEC",
          "LEC",
          "LEC",
          "LEC",
          "LEC",
          "LEC",
          "LEC",
          "LEC",
          "LEC",
          "LEC",
          "LEC",
          "LEC",
          "LEC",
          "LEC",
          "LEC",
          "LEC",
          "LEC",
          "LEC",
          "LEC",
          "LEC",
          "LEC",
          "LEC",
          "LEC",
          "LEC",
          "LEC",
          "LEC",
          "LEC",
          "LEC",
          "LEC",
          "LEC",
          "LEC",
          "LEC",
          "LEC",
          "LEC",
          "LEC",
          "LEC",
          "LEC",
          "LEC",
          "LEC",
          "LEC",
          "LEC",
          "LEC",
          "LEC",
          "LEC",
          "LEC",
          "LEC",
          "LEC",
          "LEC",
          "LEC",
          "LEC",
          "LEC",
          "LEC",
          "LEC",
          "LEC",
          "LEC",
          "LEC",
          "LEC",
          "LEC",
          "LEC",
          "LEC",
          "LEC",
          "LEC",
          "LEC",
          "LEC",
          "LEC",
          "LEC"
         ],
         "x0": " ",
         "xaxis": "x",
         "y": {
          "dtype": "f8",
          "bdata": "9P3UeOlGVkBCYOXQIiNUQNNNYhBYAVRAy6FFtvPdU0AhsHJokbVTQJMYBFYOtVNA4XoUrkepU0DD9Shcj8pTQLKd76fGs1NAvHSTGASOU0DufD81XopTQJqZmZmZiVNA/tR46SaBU0Dwp8ZLN5lTQIcW2c73k1NATmIQWDmUU0Dl0CLb+Y5TQMl2vp8al1NAXI/C9SiMU0CPwvUoXJdTQOOlm8QgiFNAYhBYObR4U0BeukkMAntTQC/dJAaBZVNAVg4tsp1nU0DHSzeJQXhTQEoMAiuHZlNAH4XrUbheU0Bcj8L1KERTQLKd76fGY1NA8tJNYhB4U0A1XrpJDFJTQN9PjZduSlNAL90kBoFdU0DZzvdT411TQIGVQ4tsX1NAyXa+nxpXU0D0/dR46V5TQBKDwMqhTVNAukkMAitPU0CiRbbz/ZRTQCUGgZVDc1NAvp8aL92cU0A/NV66SdxXQHnpJjEI5FNAtvP91HjxUkD0/dR46RZTQKAaL90kPlNAJzEIrBwSU0B3vp8aL/1SQAwCK4cWQVNAZDvfT43PVEB/arx0k1BXQGZmZmZm7ldAHVpkO98nYECNl24Sg8BZQB1aZDvf11lAg8DKoUXeWUDsUbgehZNZQEoMAiuHtllAVOOlm8SQWUDwp8ZLN0lZQNNNYhBYGVlAg8DKoUXOWEAQWDm0yJ5YQDMzMzMzw1dAKVyPwvWgV0BvEoPAynlXQCGwcmiRxVdAsp3vp8YTV0DpJjEIrIxWQBfZzvdTK1ZAF9nO91NLVkCDwMqhRfZVQFCNl24Su1VApHA9CtebVUD2KFyPwn1VQGq8dJMYvFVA"
         },
         "y0": " ",
         "yaxis": "y",
         "type": "box"
        },
        {
         "alignmentgroup": "True",
         "boxpoints": "all",
         "hovertemplate": "Driver=%{x}<br>Lap Time (s)=%{y}<extra></extra>",
         "legendgroup": "OCO",
         "marker": {
          "color": "#000004"
         },
         "name": "OCO",
         "notched": false,
         "offsetgroup": "OCO",
         "orientation": "v",
         "showlegend": true,
         "x": [
          "OCO",
          "OCO",
          "OCO",
          "OCO",
          "OCO",
          "OCO",
          "OCO",
          "OCO",
          "OCO",
          "OCO",
          "OCO",
          "OCO",
          "OCO",
          "OCO",
          "OCO",
          "OCO",
          "OCO",
          "OCO",
          "OCO",
          "OCO",
          "OCO",
          "OCO",
          "OCO",
          "OCO",
          "OCO",
          "OCO",
          "OCO",
          "OCO",
          "OCO",
          "OCO",
          "OCO",
          "OCO",
          "OCO",
          "OCO",
          "OCO",
          "OCO",
          "OCO",
          "OCO",
          "OCO",
          "OCO",
          "OCO",
          "OCO",
          "OCO",
          "OCO",
          "OCO",
          "OCO",
          "OCO",
          "OCO",
          "OCO",
          "OCO",
          "OCO",
          "OCO",
          "OCO",
          "OCO",
          "OCO",
          "OCO",
          "OCO",
          "OCO",
          "OCO",
          "OCO",
          "OCO",
          "OCO",
          "OCO",
          "OCO",
          "OCO",
          "OCO",
          "OCO",
          "OCO",
          "OCO",
          "OCO",
          "OCO",
          "OCO",
          "OCO",
          "OCO",
          "OCO",
          "OCO",
          "OCO",
          "OCO"
         ],
         "x0": " ",
         "xaxis": "x",
         "y": {
          "dtype": "f8",
          "bdata": "N4lBYOWoVUAlBoGVQxNUQJMYBFYO7VNAarx0kxjUU0C0yHa+n8JTQBBYObTIrlNANV66SQyyU0AnMQisHKJTQLx0kxgEplNAPQrXo3CdU0DTTWIQWJFTQClcj8L1oFNAmpmZmZmBU0DsUbgehYNTQP7UeOkmgVNA6SYxCKx8U0ArhxbZzpdTQK5H4XoUjlNA2/l+aryEU0AhsHJokYVTQPyp8dJNilNAz/dT46WDU0AdWmQ733dTQB1aZDvfX1NAvp8aL91cU0DByqFFtltTQOF6FK5HSVNAeekmMQg8U0D6fmq8dEtTQEw3iUFgVVNAd76fGi9VU0CYbhKDwKpXQNEi2/l+0lNAzczMzMw8U0CuR+F6FEZTQPp+arx0U1NAKVyPwvVIU0BQjZduEkNTQIlBYOXQSlNAmpmZmZlBU0BvEoPAyiFTQHE9CtejQFNA46WbxCBAU0AnMQisHEJTQNNNYhBYUVNAmpmZmZkxU0AhsHJokT1TQMuhRbbzPVNA9ihcj8JFU0Av3SQGgXVTQKJFtvP93FNAj8L1KFy/VUAZBFYOLXpWQF66SQwCo1xAx0s3iUGYWUC4HoXrUXBZQPp+arx0o1lALbKd76fuWUDjpZvEIEBaQH0/NV66oVlAuB6F61GoWUA3iUFg5YhZQB1aZDvfR1lAAAAAAAAYWUBg5dAi20FYQHe+nxov3VdAaJHtfD+dV0Dl0CLb+V5XQPLSTWIQIFdAMzMzMzOTVkB9PzVeuoFWQLTIdr6fYlZAtMh2vp/qVUAhsHJoka1VQI2XbhKDSFVATDeJQWA1VUCPwvUoXI9VQBBYObTIDlVA"
         },
         "y0": " ",
         "yaxis": "y",
         "type": "box"
        },
        {
         "alignmentgroup": "True",
         "boxpoints": "all",
         "hovertemplate": "Driver=%{x}<br>Lap Time (s)=%{y}<extra></extra>",
         "legendgroup": "HAM",
         "marker": {
          "color": "#000005"
         },
         "name": "HAM",
         "notched": false,
         "offsetgroup": "HAM",
         "orientation": "v",
         "showlegend": true,
         "x": [
          "HAM",
          "HAM",
          "HAM",
          "HAM",
          "HAM",
          "HAM",
          "HAM",
          "HAM",
          "HAM",
          "HAM",
          "HAM",
          "HAM",
          "HAM",
          "HAM",
          "HAM",
          "HAM",
          "HAM",
          "HAM",
          "HAM",
          "HAM",
          "HAM",
          "HAM",
          "HAM",
          "HAM",
          "HAM",
          "HAM",
          "HAM",
          "HAM",
          "HAM",
          "HAM",
          "HAM",
          "HAM",
          "HAM",
          "HAM",
          "HAM",
          "HAM",
          "HAM",
          "HAM",
          "HAM",
          "HAM",
          "HAM",
          "HAM",
          "HAM",
          "HAM",
          "HAM",
          "HAM",
          "HAM",
          "HAM",
          "HAM",
          "HAM",
          "HAM",
          "HAM",
          "HAM",
          "HAM",
          "HAM",
          "HAM",
          "HAM",
          "HAM",
          "HAM",
          "HAM",
          "HAM",
          "HAM",
          "HAM",
          "HAM",
          "HAM",
          "HAM",
          "HAM",
          "HAM",
          "HAM",
          "HAM",
          "HAM",
          "HAM",
          "HAM",
          "HAM",
          "HAM",
          "HAM",
          "HAM",
          "HAM"
         ],
         "x0": " ",
         "xaxis": "x",
         "y": {
          "dtype": "f8",
          "bdata": "PQrXo3AlVkB9PzVeuiFUQB+F61G4BlRAEFg5tMjWU0DJdr6fGq9TQFpkO99PvVNAi2zn+6mpU0AlBoGVQ8NTQJMYBFYOtVNAUI2XbhKLU0AlBoGVQ3tTQB+F61G4jlNATDeJQWCFU0BeukkMAptTQGq8dJMYjFNApHA9CteTU0DHSzeJQZBTQEjhehSul1NAaJHtfD+NU0A5tMh2vodTQJZDi2znk1NA/tR46SZZU0AIrBxaZINTQN0kBoGVW1NA/tR46SZpU0Dn+6nx0m1TQPhT46WbVFNATDeJQWBVU0ArhxbZzldTQHNoke18b1NA2c73U+PdV0DD9Shcj4pTQJqZmZmZ6VJAAiuHFtmWU0AZBFYOLUpTQHnpJjEIbFNAL90kBoFtU0Cmm8QgsEpTQJhuEoPAUlNAIbByaJE9U0ASg8DKoSVTQIXrUbgeJVNAYOXQItshU0C4HoXrUThTQFpkO99PtVNAZmZmZmY2U0CcxCCwchBTQNejcD0KN1NARIts5/sxU0DXo3A9CkdTQIlBYOXQklNAukkMAiuPVUDn+6nx0tVWQBsv3SQGyVxAO99PjZfmWEB9PzVeulFZQG8Sg8DK0VlA1XjpJjHYWUDb+X5qvExaQLTIdr6fwllA001iEFiZWUDufD81XpJZQFyPwvUoVFlAaJHtfD+9WEBiEFg5tGhYQKJFtvP9DFhA0SLb+X6iV0CBlUOLbDdXQJzEILBycFdA7FG4HoVrVkCmm8QgsGpWQMP1KFyPWlZA16NwPQrvVUD6fmq8dJNVQHNoke18T1VAi2zn+6kpVUA9CtejcI1VQB+F61G4RlVA"
         },
         "y0": " ",
         "yaxis": "y",
         "type": "box"
        },
        {
         "alignmentgroup": "True",
         "boxpoints": "all",
         "hovertemplate": "Driver=%{x}<br>Lap Time (s)=%{y}<extra></extra>",
         "legendgroup": "RUS",
         "marker": {
          "color": "#000006"
         },
         "name": "RUS",
         "notched": false,
         "offsetgroup": "RUS",
         "orientation": "v",
         "showlegend": true,
         "x": [
          "RUS",
          "RUS",
          "RUS",
          "RUS",
          "RUS",
          "RUS",
          "RUS",
          "RUS",
          "RUS",
          "RUS",
          "RUS",
          "RUS",
          "RUS",
          "RUS",
          "RUS",
          "RUS",
          "RUS",
          "RUS",
          "RUS",
          "RUS",
          "RUS",
          "RUS",
          "RUS",
          "RUS",
          "RUS",
          "RUS",
          "RUS",
          "RUS",
          "RUS",
          "RUS",
          "RUS",
          "RUS",
          "RUS",
          "RUS",
          "RUS",
          "RUS",
          "RUS",
          "RUS",
          "RUS",
          "RUS",
          "RUS",
          "RUS",
          "RUS",
          "RUS",
          "RUS",
          "RUS",
          "RUS",
          "RUS",
          "RUS",
          "RUS",
          "RUS",
          "RUS",
          "RUS",
          "RUS",
          "RUS",
          "RUS",
          "RUS",
          "RUS",
          "RUS",
          "RUS",
          "RUS",
          "RUS",
          "RUS",
          "RUS",
          "RUS",
          "RUS",
          "RUS",
          "RUS",
          "RUS",
          "RUS",
          "RUS",
          "RUS",
          "RUS",
          "RUS",
          "RUS",
          "RUS",
          "RUS",
          "RUS"
         ],
         "x0": " ",
         "xaxis": "x",
         "y": {
          "dtype": "f8",
          "bdata": "VOOlm8SYVkBSuB6F60lUQLTIdr6fElRAUrgehesBVED2KFyPwrVTQBSuR+F6vFNAWmQ730+lU0CPwvUoXL9TQJqZmZmZwVNATmIQWDmkU0D0/dR46Z5TQEw3iUFgnVNA7nw/NV5yU0D8qfHSTZJTQESLbOf7oVNA46WbxCCgU0BWDi2ynY9TQC2yne+njlNAQmDl0CKTU0AUrkfhepRTQC/dJAaBhVNAx0s3iUF4U0DJdr6fGodTQEw3iUFgbVNAtvP91HhpU0CamZmZmXlTQCGwcmiRdVNAO99PjZdWU0Boke18P1VTQDMzMzMzU1NAYOXQIttZU0B1kxgEVl5TQN0kBoGVY1NAI9v5fmpkU0AxCKwcWmRTQMl2vp8aR1NAPQrXo3BVU0AUrkfhekxTQARWDi2yVVNA9ihcj8JNU0DpJjEIrFRTQC2yne+nflNAke18PzV2U0DZzvdT431TQHsUrkfhYlNAMQisHFpEU0CkcD0K10NTQFCNl24SM1NAg8DKoUVOU0BxPQrXo2hTQClcj8L16FNAx0s3iUEwVUAAAAAAAChWQHsUrkfhYl1A+n5qvHTzXEAX2c73U1NZQPp+arx041lAUrgeheuJWUASg8DKod1ZQFK4HoXr4VlAkxgEVg5VWUAtsp3vp0ZZQBKDwMqh7VhALbKd76eOWEAGgZVDiyxYQIGVQ4ts/1dA8tJNYhCwV0DFILByaGlXQOXQItv5bldA+n5qvHS7VkBMN4lBYK1WQFTjpZvEgFZAbef7qfE6VkDufD81XvJVQKjGSzeJmVVAlkOLbOdbVUA730+Nl75VQEw3iUFgzVVA"
         },
         "y0": " ",
         "yaxis": "y",
         "type": "box"
        }
       ],
       "layout": {
        "template": {
         "data": {
          "candlestick": [
           {
            "decreasing": {
             "line": {
              "color": "#000033"
             }
            },
            "increasing": {
             "line": {
              "color": "#000032"
             }
            },
            "type": "candlestick"
           }
          ],
          "contourcarpet": [
           {
            "colorscale": [
             [
              0.0,
              "#000011"
             ],
             [
              0.1111111111111111,
              "#000012"
             ],
             [
              0.2222222222222222,
              "#000013"
             ],
             [
              0.3333333333333333,
              "#000014"
             ],
             [
              0.4444444444444444,
              "#000015"
             ],
             [
              0.5555555555555556,
              "#000016"
             ],
             [
              0.6666666666666666,
              "#000017"
             ],
             [
              0.7777777777777778,
              "#000018"
             ],
             [
              0.8888888888888888,
              "#000019"
             ],
             [
              1.0,
              "#000020"
             ]
            ],
            "type": "contourcarpet"
           }
          ],
          "contour": [
           {
            "colorscale": [
             [
              0.0,
              "#000011"
             ],
             [
              0.1111111111111111,
              "#000012"
             ],
             [
              0.2222222222222222,
              "#000013"
             ],
             [
              0.3333333333333333,
              "#000014"
             ],
             [
              0.4444444444444444,
              "#000015"
             ],
             [
              0.5555555555555556,
              "#000016"
             ],
             [
              0.6666666666666666,
              "#000017"
             ],
             [
              0.7777777777777778,
              "#000018"
             ],
             [
              0.8888888888888888,
              "#000019"
             ],
             [
              1.0,
              "#000020"
             ]
            ],
            "type": "contour"
           }
          ],
          "heatmap": [
           {
            "colorscale": [
             [
              0.0,
              "#000011"
             ],
             [
              0.1111111111111111,
              "#000012"
             ],
             [
              0.2222222222222222,
              "#000013"
             ],
             [
              0.3333333333333333,
              "#000014"
             ],
             [
              0.4444444444444444,
              "#000015"
             ],
             [
              0.5555555555555556,
              "#000016"
             ],
             [
              0.6666666666666666,
              "#000017"
             ],
             [
              0.7777777777777778,
              "#000018"
             ],
             [
              0.8888888888888888,
              "#000019"
             ],
             [
              1.0,
              "#000020"
             ]
            ],
            "type": "heatmap"
           }
          ],
          "histogram2d": [
           {
            "colorscale": [
             [
              0.0,
              "#000011"
             ],
             [
              0.1111111111111111,
              "#000012"
             ],
             [
              0.2222222222222222,
              "#000013"
             ],
             [
              0.3333333333333333,
              "#000014"
             ],
             [
              0.4444444444444444,
              "#000015"
             ],
             [
              0.5555555555555556,
              "#000016"
             ],
             [
              0.6666666666666666,
              "#000017"
             ],
             [
              0.7777777777777778,
              "#000018"
             ],
             [
              0.8888888888888888,
              "#000019"
             ],
             [
              1.0,
              "#000020"
             ]
            ],
            "type": "histogram2d"
           }
          ],
          "icicle": [
           {
            "textfont": {
             "color": "white"
            },
            "type": "icicle"
           }
          ],
          "sankey": [
           {
            "textfont": {
             "color": "#000036"
            },
            "type": "sankey"
           }
          ],
          "scatter": [
           {
            "marker": {
             "line": {
              "width": 0
             }
            },
            "type": "scatter"
           }
          ],
          "table": [
           {
            "cells": {
             "fill": {
              "color": "#000038"
             },
             "font": {
              "color": "#000037"
             },
             "line": {
              "color": "#000039"
             }
            },
            "header": {
             "fill": {
              "color": "#000040"
             },
             "font": {
              "color": "#000036"
             },
             "line": {
              "color": "#000039"
             }
            },
            "type": "table"
           }
          ],
          "waterfall": [
           {
            "connector": {
             "line": {
              "color": "#000036",
              "width": 2
             }
            },
            "decreasing": {
             "marker": {
              "color": "#000033"
             }
            },
            "increasing": {
             "marker": {
              "color": "#000032"
             }
            },
            "totals": {
             "marker": {
              "color": "#000034"
             }
            },
            "type": "waterfall"
           }
          ]
         },
         "layout": {
          "coloraxis": {
           "colorscale": [
            [
             0.0,
             "#000011"
            ],
            [
             0.1111111111111111,
             "#000012"
            ],
            [
             0.2222222222222222,
             "#000013"
            ],
            [
             0.3333333333333333,
             "#000014"
            ],
            [
             0.4444444444444444,
             "#000015"
            ],
            [
             0.5555555555555556,
             "#000016"
            ],
            [
             0.6666666666666666,
             "#000017"
            ],
            [
             0.7777777777777778,
             "#000018"
            ],
            [
             0.8888888888888888,
             "#000019"
            ],
            [
             1.0,
             "#000020"
            ]
           ]
          },
          "colorscale": {
           "diverging": [
            [
             0.0,
             "#000021"
            ],
            [
             0.1,
             "#000022"
            ],
            [
             0.2,
             "#000023"
            ],
            [
             0.3,
             "#000024"
            ],
            [
             0.4,
             "#000025"
            ],
            [
             0.5,
             "#000026"
            ],
            [
             0.6,
             "#000027"
            ],
            [
             0.7,
             "#000028"
            ],
            [
             0.8,
             "#000029"
            ],
            [
             0.9,
             "#000030"
            ],
            [
             1.0,
             "#000031"
            ]
           ],
           "sequential": [
            [
             0.0,
             "#000011"
            ],
            [
             0.1111111111111111,
             "#000012"
            ],
            [
             0.2222222222222222,
             "#000013"
            ],
            [
             0.3333333333333333,
             "#000014"
            ],
            [
             0.4444444444444444,
             "#000015"
            ],
            [
             0.5555555555555556,
             "#000016"
            ],
            [
             0.6666666666666666,
             "#000017"
            ],
            [
             0.7777777777777778,
             "#000018"
            ],
            [
             0.8888888888888888,
             "#000019"
            ],
            [
             1.0,
             "#000020"
            ]
           ],
           "sequentialminus": [
            [
             0.0,
             "#000011"
            ],
            [
             0.1111111111111111,
             "#000012"
            ],
            [
             0.2222222222222222,
             "#000013"
            ],
            [
             0.3333333333333333,
             "#000014"
            ],
            [
             0.4444444444444444,
             "#000015"
            ],
            [
             0.5555555555555556,
             "#000016"
            ],
            [
             0.6666666666666666,
             "#000017"
            ],
            [
             0.7777777777777778,
             "#000018"
            ],
            [
             0.8888888888888888,
             "#000019"
            ],
            [
             1.0,
             "#000020"
            ]
           ]
          },
          "colorway": [
           "#000001",
           "#000002",
           "#000003",
           "#000004",
           "#000005",
           "#000006",
           "#000007",
           "#000008",
           "#000009",
           "#000010"
          ]
         }
        },
        "xaxis": {
         "anchor": "y",
         "domain": [
          0.0,
          1.0
         ],
         "title": {
          "text": "Driver"
         },
         "categoryorder": "array",
         "categoryarray": [
          "VER",
          "ALO",
          "LEC",
          "OCO",
          "HAM",
          "RUS"
         ]
        },
        "yaxis": {
         "anchor": "x",
         "domain": [
          0.0,
          1.0
         ],
         "title": {
          "text": "Lap Time (s)"
         }
        },
        "legend": {
         "title": {
          "text": "Driver"
         },
         "tracegroupgap": 0
        },
        "title": {
         "text": "lap time distribution by driver (2023 Monaco GP)"
        },
        "boxmode": "overlay"
       },
       "config": {
        "plotlyServerURL": "https://plot.ly"
       }
      }
     },
     "metadata": {},
     "output_type": "display_data",
     "jetTransient": {
      "display_id": null
     }
    }
   ],
   "execution_count": 65
  },
  {
   "metadata": {},
   "cell_type": "markdown",
   "source": "# drivers position after each lap",
   "id": "af85e8d5227b1789"
  },
  {
   "metadata": {
    "ExecuteTime": {
     "end_time": "2025-10-16T13:59:46.186948Z",
     "start_time": "2025-10-16T13:59:45.999013Z"
    }
   },
   "cell_type": "code",
   "source": [
    "fig = px.line(\n",
    "    laps[laps[\"Driver\"].isin(drivers)],\n",
    "    x = \"LapNumber\",\n",
    "    y = \"Position\",\n",
    "    color = \"Driver\",\n",
    "    title = \"DRIVER POSITION AFTER EACH LAP\",\n",
    "    labels = {'LapNumber': 'Lap Number', 'Position': 'Position'}\n",
    "\n",
    ")\n",
    "fig.update_yaxes(autorange=\"reversed\")\n",
    "fig.show()"
   ],
   "id": "9875e6097fb0bc2c",
   "outputs": [
    {
     "data": {
      "application/vnd.plotly.v1+json": {
       "data": [
        {
         "hovertemplate": "Driver=VER<br>Lap Number=%{x}<br>Position=%{y}<extra></extra>",
         "legendgroup": "VER",
         "line": {
          "color": "#000001",
          "dash": "solid"
         },
         "marker": {
          "symbol": "circle"
         },
         "mode": "lines",
         "name": "VER",
         "orientation": "v",
         "showlegend": true,
         "x": {
          "dtype": "f8",
          "bdata": "AAAAAAAA8D8AAAAAAAAAQAAAAAAAAAhAAAAAAAAAEEAAAAAAAAAUQAAAAAAAABhAAAAAAAAAHEAAAAAAAAAgQAAAAAAAACJAAAAAAAAAJEAAAAAAAAAmQAAAAAAAAChAAAAAAAAAKkAAAAAAAAAsQAAAAAAAAC5AAAAAAAAAMEAAAAAAAAAxQAAAAAAAADJAAAAAAAAAM0AAAAAAAAA0QAAAAAAAADVAAAAAAAAANkAAAAAAAAA3QAAAAAAAADhAAAAAAAAAOUAAAAAAAAA6QAAAAAAAADtAAAAAAAAAPEAAAAAAAAA9QAAAAAAAAD5AAAAAAAAAP0AAAAAAAABAQAAAAAAAgEBAAAAAAAAAQUAAAAAAAIBBQAAAAAAAAEJAAAAAAACAQkAAAAAAAABDQAAAAAAAgENAAAAAAAAAREAAAAAAAIBEQAAAAAAAAEVAAAAAAACARUAAAAAAAABGQAAAAAAAgEZAAAAAAAAAR0AAAAAAAIBHQAAAAAAAAEhAAAAAAACASEAAAAAAAABJQAAAAAAAgElAAAAAAAAASkAAAAAAAIBKQAAAAAAAAEtAAAAAAACAS0AAAAAAAABMQAAAAAAAgExAAAAAAAAATUAAAAAAAIBNQAAAAAAAAE5AAAAAAACATkAAAAAAAABPQAAAAAAAgE9AAAAAAAAAUEAAAAAAAEBQQAAAAAAAgFBAAAAAAADAUEAAAAAAAABRQAAAAAAAQFFAAAAAAACAUUAAAAAAAMBRQAAAAAAAAFJAAAAAAABAUkAAAAAAAIBSQAAAAAAAwFJAAAAAAAAAU0AAAAAAAEBTQAAAAAAAgFNA"
         },
         "xaxis": "x",
         "y": {
          "dtype": "f8",
          "bdata": "AAAAAAAA8D8AAAAAAADwPwAAAAAAAPA/AAAAAAAA8D8AAAAAAADwPwAAAAAAAPA/AAAAAAAA8D8AAAAAAADwPwAAAAAAAPA/AAAAAAAA8D8AAAAAAADwPwAAAAAAAPA/AAAAAAAA8D8AAAAAAADwPwAAAAAAAPA/AAAAAAAA8D8AAAAAAADwPwAAAAAAAPA/AAAAAAAA8D8AAAAAAADwPwAAAAAAAPA/AAAAAAAA8D8AAAAAAADwPwAAAAAAAPA/AAAAAAAA8D8AAAAAAADwPwAAAAAAAPA/AAAAAAAA8D8AAAAAAADwPwAAAAAAAPA/AAAAAAAA8D8AAAAAAADwPwAAAAAAAPA/AAAAAAAA8D8AAAAAAADwPwAAAAAAAPA/AAAAAAAA8D8AAAAAAADwPwAAAAAAAPA/AAAAAAAA8D8AAAAAAADwPwAAAAAAAPA/AAAAAAAA8D8AAAAAAADwPwAAAAAAAPA/AAAAAAAA8D8AAAAAAADwPwAAAAAAAPA/AAAAAAAA8D8AAAAAAADwPwAAAAAAAPA/AAAAAAAA8D8AAAAAAADwPwAAAAAAAPA/AAAAAAAA8D8AAAAAAADwPwAAAAAAAPA/AAAAAAAA8D8AAAAAAADwPwAAAAAAAPA/AAAAAAAA8D8AAAAAAADwPwAAAAAAAPA/AAAAAAAA8D8AAAAAAADwPwAAAAAAAPA/AAAAAAAA8D8AAAAAAADwPwAAAAAAAPA/AAAAAAAA8D8AAAAAAADwPwAAAAAAAPA/AAAAAAAA8D8AAAAAAADwPwAAAAAAAPA/AAAAAAAA8D8AAAAAAADwPwAAAAAAAPA/"
         },
         "yaxis": "y",
         "type": "scatter"
        },
        {
         "hovertemplate": "Driver=ALO<br>Lap Number=%{x}<br>Position=%{y}<extra></extra>",
         "legendgroup": "ALO",
         "line": {
          "color": "#000002",
          "dash": "solid"
         },
         "marker": {
          "symbol": "circle"
         },
         "mode": "lines",
         "name": "ALO",
         "orientation": "v",
         "showlegend": true,
         "x": {
          "dtype": "f8",
          "bdata": "AAAAAAAA8D8AAAAAAAAAQAAAAAAAAAhAAAAAAAAAEEAAAAAAAAAUQAAAAAAAABhAAAAAAAAAHEAAAAAAAAAgQAAAAAAAACJAAAAAAAAAJEAAAAAAAAAmQAAAAAAAAChAAAAAAAAAKkAAAAAAAAAsQAAAAAAAAC5AAAAAAAAAMEAAAAAAAAAxQAAAAAAAADJAAAAAAAAAM0AAAAAAAAA0QAAAAAAAADVAAAAAAAAANkAAAAAAAAA3QAAAAAAAADhAAAAAAAAAOUAAAAAAAAA6QAAAAAAAADtAAAAAAAAAPEAAAAAAAAA9QAAAAAAAAD5AAAAAAAAAP0AAAAAAAABAQAAAAAAAgEBAAAAAAAAAQUAAAAAAAIBBQAAAAAAAAEJAAAAAAACAQkAAAAAAAABDQAAAAAAAgENAAAAAAAAAREAAAAAAAIBEQAAAAAAAAEVAAAAAAACARUAAAAAAAABGQAAAAAAAgEZAAAAAAAAAR0AAAAAAAIBHQAAAAAAAAEhAAAAAAACASEAAAAAAAABJQAAAAAAAgElAAAAAAAAASkAAAAAAAIBKQAAAAAAAAEtAAAAAAACAS0AAAAAAAABMQAAAAAAAgExAAAAAAAAATUAAAAAAAIBNQAAAAAAAAE5AAAAAAACATkAAAAAAAABPQAAAAAAAgE9AAAAAAAAAUEAAAAAAAEBQQAAAAAAAgFBAAAAAAADAUEAAAAAAAABRQAAAAAAAQFFAAAAAAACAUUAAAAAAAMBRQAAAAAAAAFJAAAAAAABAUkAAAAAAAIBSQAAAAAAAwFJAAAAAAAAAU0AAAAAAAEBTQAAAAAAAgFNA"
         },
         "xaxis": "x",
         "y": {
          "dtype": "f8",
          "bdata": "AAAAAAAAAEAAAAAAAAAAQAAAAAAAAABAAAAAAAAAAEAAAAAAAAAAQAAAAAAAAABAAAAAAAAAAEAAAAAAAAAAQAAAAAAAAABAAAAAAAAAAEAAAAAAAAAAQAAAAAAAAABAAAAAAAAAAEAAAAAAAAAAQAAAAAAAAABAAAAAAAAAAEAAAAAAAAAAQAAAAAAAAABAAAAAAAAAAEAAAAAAAAAAQAAAAAAAAABAAAAAAAAAAEAAAAAAAAAAQAAAAAAAAABAAAAAAAAAAEAAAAAAAAAAQAAAAAAAAABAAAAAAAAAAEAAAAAAAAAAQAAAAAAAAABAAAAAAAAAAEAAAAAAAAAAQAAAAAAAAABAAAAAAAAAAEAAAAAAAAAAQAAAAAAAAABAAAAAAAAAAEAAAAAAAAAAQAAAAAAAAABAAAAAAAAAAEAAAAAAAAAAQAAAAAAAAABAAAAAAAAAAEAAAAAAAAAAQAAAAAAAAABAAAAAAAAAAEAAAAAAAAAAQAAAAAAAAABAAAAAAAAAAEAAAAAAAAAAQAAAAAAAAABAAAAAAAAAAEAAAAAAAAAAQAAAAAAAAABAAAAAAAAAAEAAAAAAAAAAQAAAAAAAAABAAAAAAAAAAEAAAAAAAAAAQAAAAAAAAABAAAAAAAAAAEAAAAAAAAAAQAAAAAAAAABAAAAAAAAAAEAAAAAAAAAAQAAAAAAAAABAAAAAAAAAAEAAAAAAAAAAQAAAAAAAAABAAAAAAAAAAEAAAAAAAAAAQAAAAAAAAABAAAAAAAAAAEAAAAAAAAAAQAAAAAAAAABAAAAAAAAAAEAAAAAAAAAAQAAAAAAAAABA"
         },
         "yaxis": "y",
         "type": "scatter"
        },
        {
         "hovertemplate": "Driver=LEC<br>Lap Number=%{x}<br>Position=%{y}<extra></extra>",
         "legendgroup": "LEC",
         "line": {
          "color": "#000003",
          "dash": "solid"
         },
         "marker": {
          "symbol": "circle"
         },
         "mode": "lines",
         "name": "LEC",
         "orientation": "v",
         "showlegend": true,
         "x": {
          "dtype": "f8",
          "bdata": "AAAAAAAA8D8AAAAAAAAAQAAAAAAAAAhAAAAAAAAAEEAAAAAAAAAUQAAAAAAAABhAAAAAAAAAHEAAAAAAAAAgQAAAAAAAACJAAAAAAAAAJEAAAAAAAAAmQAAAAAAAAChAAAAAAAAAKkAAAAAAAAAsQAAAAAAAAC5AAAAAAAAAMEAAAAAAAAAxQAAAAAAAADJAAAAAAAAAM0AAAAAAAAA0QAAAAAAAADVAAAAAAAAANkAAAAAAAAA3QAAAAAAAADhAAAAAAAAAOUAAAAAAAAA6QAAAAAAAADtAAAAAAAAAPEAAAAAAAAA9QAAAAAAAAD5AAAAAAAAAP0AAAAAAAABAQAAAAAAAgEBAAAAAAAAAQUAAAAAAAIBBQAAAAAAAAEJAAAAAAACAQkAAAAAAAABDQAAAAAAAgENAAAAAAAAAREAAAAAAAIBEQAAAAAAAAEVAAAAAAACARUAAAAAAAABGQAAAAAAAgEZAAAAAAAAAR0AAAAAAAIBHQAAAAAAAAEhAAAAAAACASEAAAAAAAABJQAAAAAAAgElAAAAAAAAASkAAAAAAAIBKQAAAAAAAAEtAAAAAAACAS0AAAAAAAABMQAAAAAAAgExAAAAAAAAATUAAAAAAAIBNQAAAAAAAAE5AAAAAAACATkAAAAAAAABPQAAAAAAAgE9AAAAAAAAAUEAAAAAAAEBQQAAAAAAAgFBAAAAAAADAUEAAAAAAAABRQAAAAAAAQFFAAAAAAACAUUAAAAAAAMBRQAAAAAAAAFJAAAAAAABAUkAAAAAAAIBSQAAAAAAAwFJAAAAAAAAAU0AAAAAAAEBTQAAAAAAAgFNA"
         },
         "xaxis": "x",
         "y": {
          "dtype": "f8",
          "bdata": "AAAAAAAAGEAAAAAAAAAYQAAAAAAAABhAAAAAAAAAGEAAAAAAAAAYQAAAAAAAABhAAAAAAAAAGEAAAAAAAAAYQAAAAAAAABhAAAAAAAAAGEAAAAAAAAAYQAAAAAAAABhAAAAAAAAAGEAAAAAAAAAYQAAAAAAAABhAAAAAAAAAGEAAAAAAAAAYQAAAAAAAABhAAAAAAAAAGEAAAAAAAAAYQAAAAAAAABhAAAAAAAAAGEAAAAAAAAAYQAAAAAAAABhAAAAAAAAAGEAAAAAAAAAYQAAAAAAAABhAAAAAAAAAGEAAAAAAAAAYQAAAAAAAABhAAAAAAAAAFEAAAAAAAAAQQAAAAAAAAAhAAAAAAAAACEAAAAAAAAAIQAAAAAAAAAhAAAAAAAAACEAAAAAAAAAIQAAAAAAAAAhAAAAAAAAACEAAAAAAAAAIQAAAAAAAAAhAAAAAAAAACEAAAAAAAAAgQAAAAAAAACBAAAAAAAAAIEAAAAAAAAAgQAAAAAAAABxAAAAAAAAAHEAAAAAAAAAcQAAAAAAAABxAAAAAAAAAHEAAAAAAAAAcQAAAAAAAABBAAAAAAAAAGEAAAAAAAAAYQAAAAAAAABhAAAAAAAAAGEAAAAAAAAAYQAAAAAAAABhAAAAAAAAAGEAAAAAAAAAYQAAAAAAAABhAAAAAAAAAGEAAAAAAAAAYQAAAAAAAABhAAAAAAAAAGEAAAAAAAAAYQAAAAAAAABhAAAAAAAAAGEAAAAAAAAAYQAAAAAAAABhAAAAAAAAAGEAAAAAAAAAYQAAAAAAAABhAAAAAAAAAGEAAAAAAAAAYQAAAAAAAABhA"
         },
         "yaxis": "y",
         "type": "scatter"
        },
        {
         "hovertemplate": "Driver=OCO<br>Lap Number=%{x}<br>Position=%{y}<extra></extra>",
         "legendgroup": "OCO",
         "line": {
          "color": "#000004",
          "dash": "solid"
         },
         "marker": {
          "symbol": "circle"
         },
         "mode": "lines",
         "name": "OCO",
         "orientation": "v",
         "showlegend": true,
         "x": {
          "dtype": "f8",
          "bdata": "AAAAAAAA8D8AAAAAAAAAQAAAAAAAAAhAAAAAAAAAEEAAAAAAAAAUQAAAAAAAABhAAAAAAAAAHEAAAAAAAAAgQAAAAAAAACJAAAAAAAAAJEAAAAAAAAAmQAAAAAAAAChAAAAAAAAAKkAAAAAAAAAsQAAAAAAAAC5AAAAAAAAAMEAAAAAAAAAxQAAAAAAAADJAAAAAAAAAM0AAAAAAAAA0QAAAAAAAADVAAAAAAAAANkAAAAAAAAA3QAAAAAAAADhAAAAAAAAAOUAAAAAAAAA6QAAAAAAAADtAAAAAAAAAPEAAAAAAAAA9QAAAAAAAAD5AAAAAAAAAP0AAAAAAAABAQAAAAAAAgEBAAAAAAAAAQUAAAAAAAIBBQAAAAAAAAEJAAAAAAACAQkAAAAAAAABDQAAAAAAAgENAAAAAAAAAREAAAAAAAIBEQAAAAAAAAEVAAAAAAACARUAAAAAAAABGQAAAAAAAgEZAAAAAAAAAR0AAAAAAAIBHQAAAAAAAAEhAAAAAAACASEAAAAAAAABJQAAAAAAAgElAAAAAAAAASkAAAAAAAIBKQAAAAAAAAEtAAAAAAACAS0AAAAAAAABMQAAAAAAAgExAAAAAAAAATUAAAAAAAIBNQAAAAAAAAE5AAAAAAACATkAAAAAAAABPQAAAAAAAgE9AAAAAAAAAUEAAAAAAAEBQQAAAAAAAgFBAAAAAAADAUEAAAAAAAABRQAAAAAAAQFFAAAAAAACAUUAAAAAAAMBRQAAAAAAAAFJAAAAAAABAUkAAAAAAAIBSQAAAAAAAwFJAAAAAAAAAU0AAAAAAAEBTQAAAAAAAgFNA"
         },
         "xaxis": "x",
         "y": {
          "dtype": "f8",
          "bdata": "AAAAAAAACEAAAAAAAAAIQAAAAAAAAAhAAAAAAAAACEAAAAAAAAAIQAAAAAAAAAhAAAAAAAAACEAAAAAAAAAIQAAAAAAAAAhAAAAAAAAACEAAAAAAAAAIQAAAAAAAAAhAAAAAAAAACEAAAAAAAAAIQAAAAAAAAAhAAAAAAAAACEAAAAAAAAAIQAAAAAAAAAhAAAAAAAAACEAAAAAAAAAIQAAAAAAAAAhAAAAAAAAACEAAAAAAAAAIQAAAAAAAAAhAAAAAAAAACEAAAAAAAAAIQAAAAAAAAAhAAAAAAAAACEAAAAAAAAAIQAAAAAAAAAhAAAAAAAAACEAAAAAAAAAcQAAAAAAAABxAAAAAAAAAGEAAAAAAAAAYQAAAAAAAABhAAAAAAAAAGEAAAAAAAAAYQAAAAAAAABhAAAAAAAAAGEAAAAAAAAAYQAAAAAAAABhAAAAAAAAAGEAAAAAAAAAUQAAAAAAAABRAAAAAAAAAFEAAAAAAAAAQQAAAAAAAABBAAAAAAAAAEEAAAAAAAAAQQAAAAAAAABBAAAAAAAAAEEAAAAAAAAAQQAAAAAAAABhAAAAAAAAACEAAAAAAAAAIQAAAAAAAAAhAAAAAAAAACEAAAAAAAAAIQAAAAAAAAAhAAAAAAAAACEAAAAAAAAAIQAAAAAAAAAhAAAAAAAAACEAAAAAAAAAIQAAAAAAAAAhAAAAAAAAACEAAAAAAAAAIQAAAAAAAAAhAAAAAAAAACEAAAAAAAAAIQAAAAAAAAAhAAAAAAAAACEAAAAAAAAAIQAAAAAAAAAhAAAAAAAAACEAAAAAAAAAIQAAAAAAAAAhA"
         },
         "yaxis": "y",
         "type": "scatter"
        },
        {
         "hovertemplate": "Driver=HAM<br>Lap Number=%{x}<br>Position=%{y}<extra></extra>",
         "legendgroup": "HAM",
         "line": {
          "color": "#000005",
          "dash": "solid"
         },
         "marker": {
          "symbol": "circle"
         },
         "mode": "lines",
         "name": "HAM",
         "orientation": "v",
         "showlegend": true,
         "x": {
          "dtype": "f8",
          "bdata": "AAAAAAAA8D8AAAAAAAAAQAAAAAAAAAhAAAAAAAAAEEAAAAAAAAAUQAAAAAAAABhAAAAAAAAAHEAAAAAAAAAgQAAAAAAAACJAAAAAAAAAJEAAAAAAAAAmQAAAAAAAAChAAAAAAAAAKkAAAAAAAAAsQAAAAAAAAC5AAAAAAAAAMEAAAAAAAAAxQAAAAAAAADJAAAAAAAAAM0AAAAAAAAA0QAAAAAAAADVAAAAAAAAANkAAAAAAAAA3QAAAAAAAADhAAAAAAAAAOUAAAAAAAAA6QAAAAAAAADtAAAAAAAAAPEAAAAAAAAA9QAAAAAAAAD5AAAAAAAAAP0AAAAAAAABAQAAAAAAAgEBAAAAAAAAAQUAAAAAAAIBBQAAAAAAAAEJAAAAAAACAQkAAAAAAAABDQAAAAAAAgENAAAAAAAAAREAAAAAAAIBEQAAAAAAAAEVAAAAAAACARUAAAAAAAABGQAAAAAAAgEZAAAAAAAAAR0AAAAAAAIBHQAAAAAAAAEhAAAAAAACASEAAAAAAAABJQAAAAAAAgElAAAAAAAAASkAAAAAAAIBKQAAAAAAAAEtAAAAAAACAS0AAAAAAAABMQAAAAAAAgExAAAAAAAAATUAAAAAAAIBNQAAAAAAAAE5AAAAAAACATkAAAAAAAABPQAAAAAAAgE9AAAAAAAAAUEAAAAAAAEBQQAAAAAAAgFBAAAAAAADAUEAAAAAAAABRQAAAAAAAQFFAAAAAAACAUUAAAAAAAMBRQAAAAAAAAFJAAAAAAABAUkAAAAAAAIBSQAAAAAAAwFJAAAAAAAAAU0AAAAAAAEBTQAAAAAAAgFNA"
         },
         "xaxis": "x",
         "y": {
          "dtype": "f8",
          "bdata": "AAAAAAAAFEAAAAAAAAAUQAAAAAAAABRAAAAAAAAAFEAAAAAAAAAUQAAAAAAAABRAAAAAAAAAFEAAAAAAAAAUQAAAAAAAABRAAAAAAAAAFEAAAAAAAAAUQAAAAAAAABRAAAAAAAAAFEAAAAAAAAAUQAAAAAAAABRAAAAAAAAAFEAAAAAAAAAUQAAAAAAAABRAAAAAAAAAFEAAAAAAAAAUQAAAAAAAABRAAAAAAAAAFEAAAAAAAAAUQAAAAAAAABRAAAAAAAAAFEAAAAAAAAAUQAAAAAAAABRAAAAAAAAAFEAAAAAAAAAUQAAAAAAAABRAAAAAAAAAIEAAAAAAAAAgQAAAAAAAACBAAAAAAAAAIEAAAAAAAAAgQAAAAAAAACBAAAAAAAAAIEAAAAAAAAAgQAAAAAAAACBAAAAAAAAAIEAAAAAAAAAgQAAAAAAAACBAAAAAAAAAIEAAAAAAAAAcQAAAAAAAABxAAAAAAAAAHEAAAAAAAAAYQAAAAAAAABhAAAAAAAAAGEAAAAAAAAAYQAAAAAAAABhAAAAAAAAAGEAAAAAAAAAYQAAAAAAAABxAAAAAAAAAEEAAAAAAAAAQQAAAAAAAABBAAAAAAAAAEEAAAAAAAAAQQAAAAAAAABBAAAAAAAAAEEAAAAAAAAAQQAAAAAAAABBAAAAAAAAAEEAAAAAAAAAQQAAAAAAAABBAAAAAAAAAEEAAAAAAAAAQQAAAAAAAABBAAAAAAAAAEEAAAAAAAAAQQAAAAAAAABBAAAAAAAAAEEAAAAAAAAAQQAAAAAAAABBAAAAAAAAAEEAAAAAAAAAQQAAAAAAAABBA"
         },
         "yaxis": "y",
         "type": "scatter"
        },
        {
         "hovertemplate": "Driver=RUS<br>Lap Number=%{x}<br>Position=%{y}<extra></extra>",
         "legendgroup": "RUS",
         "line": {
          "color": "#000006",
          "dash": "solid"
         },
         "marker": {
          "symbol": "circle"
         },
         "mode": "lines",
         "name": "RUS",
         "orientation": "v",
         "showlegend": true,
         "x": {
          "dtype": "f8",
          "bdata": "AAAAAAAA8D8AAAAAAAAAQAAAAAAAAAhAAAAAAAAAEEAAAAAAAAAUQAAAAAAAABhAAAAAAAAAHEAAAAAAAAAgQAAAAAAAACJAAAAAAAAAJEAAAAAAAAAmQAAAAAAAAChAAAAAAAAAKkAAAAAAAAAsQAAAAAAAAC5AAAAAAAAAMEAAAAAAAAAxQAAAAAAAADJAAAAAAAAAM0AAAAAAAAA0QAAAAAAAADVAAAAAAAAANkAAAAAAAAA3QAAAAAAAADhAAAAAAAAAOUAAAAAAAAA6QAAAAAAAADtAAAAAAAAAPEAAAAAAAAA9QAAAAAAAAD5AAAAAAAAAP0AAAAAAAABAQAAAAAAAgEBAAAAAAAAAQUAAAAAAAIBBQAAAAAAAAEJAAAAAAACAQkAAAAAAAABDQAAAAAAAgENAAAAAAAAAREAAAAAAAIBEQAAAAAAAAEVAAAAAAACARUAAAAAAAABGQAAAAAAAgEZAAAAAAAAAR0AAAAAAAIBHQAAAAAAAAEhAAAAAAACASEAAAAAAAABJQAAAAAAAgElAAAAAAAAASkAAAAAAAIBKQAAAAAAAAEtAAAAAAACAS0AAAAAAAABMQAAAAAAAgExAAAAAAAAATUAAAAAAAIBNQAAAAAAAAE5AAAAAAACATkAAAAAAAABPQAAAAAAAgE9AAAAAAAAAUEAAAAAAAEBQQAAAAAAAgFBAAAAAAADAUEAAAAAAAABRQAAAAAAAQFFAAAAAAACAUUAAAAAAAMBRQAAAAAAAAFJAAAAAAABAUkAAAAAAAIBSQAAAAAAAwFJAAAAAAAAAU0AAAAAAAEBTQAAAAAAAgFNA"
         },
         "xaxis": "x",
         "y": {
          "dtype": "f8",
          "bdata": "AAAAAAAAIEAAAAAAAAAgQAAAAAAAACBAAAAAAAAAIEAAAAAAAAAgQAAAAAAAACBAAAAAAAAAIEAAAAAAAAAgQAAAAAAAACBAAAAAAAAAIEAAAAAAAAAgQAAAAAAAACBAAAAAAAAAIEAAAAAAAAAgQAAAAAAAACBAAAAAAAAAIEAAAAAAAAAgQAAAAAAAACBAAAAAAAAAIEAAAAAAAAAgQAAAAAAAACBAAAAAAAAAIEAAAAAAAAAgQAAAAAAAACBAAAAAAAAAIEAAAAAAAAAgQAAAAAAAACBAAAAAAAAAIEAAAAAAAAAgQAAAAAAAACBAAAAAAAAAHEAAAAAAAAAYQAAAAAAAABRAAAAAAAAAFEAAAAAAAAAUQAAAAAAAABRAAAAAAAAAFEAAAAAAAAAUQAAAAAAAABRAAAAAAAAAFEAAAAAAAAAUQAAAAAAAABRAAAAAAAAAFEAAAAAAAAAQQAAAAAAAABBAAAAAAAAAEEAAAAAAAAAIQAAAAAAAAAhAAAAAAAAACEAAAAAAAAAIQAAAAAAAAAhAAAAAAAAACEAAAAAAAAAIQAAAAAAAABRAAAAAAAAAFEAAAAAAAAAUQAAAAAAAABRAAAAAAAAAFEAAAAAAAAAUQAAAAAAAABRAAAAAAAAAFEAAAAAAAAAUQAAAAAAAABRAAAAAAAAAFEAAAAAAAAAUQAAAAAAAABRAAAAAAAAAFEAAAAAAAAAUQAAAAAAAABRAAAAAAAAAFEAAAAAAAAAUQAAAAAAAABRAAAAAAAAAFEAAAAAAAAAUQAAAAAAAABRAAAAAAAAAFEAAAAAAAAAUQAAAAAAAABRA"
         },
         "yaxis": "y",
         "type": "scatter"
        }
       ],
       "layout": {
        "template": {
         "data": {
          "candlestick": [
           {
            "decreasing": {
             "line": {
              "color": "#000033"
             }
            },
            "increasing": {
             "line": {
              "color": "#000032"
             }
            },
            "type": "candlestick"
           }
          ],
          "contourcarpet": [
           {
            "colorscale": [
             [
              0.0,
              "#000011"
             ],
             [
              0.1111111111111111,
              "#000012"
             ],
             [
              0.2222222222222222,
              "#000013"
             ],
             [
              0.3333333333333333,
              "#000014"
             ],
             [
              0.4444444444444444,
              "#000015"
             ],
             [
              0.5555555555555556,
              "#000016"
             ],
             [
              0.6666666666666666,
              "#000017"
             ],
             [
              0.7777777777777778,
              "#000018"
             ],
             [
              0.8888888888888888,
              "#000019"
             ],
             [
              1.0,
              "#000020"
             ]
            ],
            "type": "contourcarpet"
           }
          ],
          "contour": [
           {
            "colorscale": [
             [
              0.0,
              "#000011"
             ],
             [
              0.1111111111111111,
              "#000012"
             ],
             [
              0.2222222222222222,
              "#000013"
             ],
             [
              0.3333333333333333,
              "#000014"
             ],
             [
              0.4444444444444444,
              "#000015"
             ],
             [
              0.5555555555555556,
              "#000016"
             ],
             [
              0.6666666666666666,
              "#000017"
             ],
             [
              0.7777777777777778,
              "#000018"
             ],
             [
              0.8888888888888888,
              "#000019"
             ],
             [
              1.0,
              "#000020"
             ]
            ],
            "type": "contour"
           }
          ],
          "heatmap": [
           {
            "colorscale": [
             [
              0.0,
              "#000011"
             ],
             [
              0.1111111111111111,
              "#000012"
             ],
             [
              0.2222222222222222,
              "#000013"
             ],
             [
              0.3333333333333333,
              "#000014"
             ],
             [
              0.4444444444444444,
              "#000015"
             ],
             [
              0.5555555555555556,
              "#000016"
             ],
             [
              0.6666666666666666,
              "#000017"
             ],
             [
              0.7777777777777778,
              "#000018"
             ],
             [
              0.8888888888888888,
              "#000019"
             ],
             [
              1.0,
              "#000020"
             ]
            ],
            "type": "heatmap"
           }
          ],
          "histogram2d": [
           {
            "colorscale": [
             [
              0.0,
              "#000011"
             ],
             [
              0.1111111111111111,
              "#000012"
             ],
             [
              0.2222222222222222,
              "#000013"
             ],
             [
              0.3333333333333333,
              "#000014"
             ],
             [
              0.4444444444444444,
              "#000015"
             ],
             [
              0.5555555555555556,
              "#000016"
             ],
             [
              0.6666666666666666,
              "#000017"
             ],
             [
              0.7777777777777778,
              "#000018"
             ],
             [
              0.8888888888888888,
              "#000019"
             ],
             [
              1.0,
              "#000020"
             ]
            ],
            "type": "histogram2d"
           }
          ],
          "icicle": [
           {
            "textfont": {
             "color": "white"
            },
            "type": "icicle"
           }
          ],
          "sankey": [
           {
            "textfont": {
             "color": "#000036"
            },
            "type": "sankey"
           }
          ],
          "scatter": [
           {
            "marker": {
             "line": {
              "width": 0
             }
            },
            "type": "scatter"
           }
          ],
          "table": [
           {
            "cells": {
             "fill": {
              "color": "#000038"
             },
             "font": {
              "color": "#000037"
             },
             "line": {
              "color": "#000039"
             }
            },
            "header": {
             "fill": {
              "color": "#000040"
             },
             "font": {
              "color": "#000036"
             },
             "line": {
              "color": "#000039"
             }
            },
            "type": "table"
           }
          ],
          "waterfall": [
           {
            "connector": {
             "line": {
              "color": "#000036",
              "width": 2
             }
            },
            "decreasing": {
             "marker": {
              "color": "#000033"
             }
            },
            "increasing": {
             "marker": {
              "color": "#000032"
             }
            },
            "totals": {
             "marker": {
              "color": "#000034"
             }
            },
            "type": "waterfall"
           }
          ]
         },
         "layout": {
          "coloraxis": {
           "colorscale": [
            [
             0.0,
             "#000011"
            ],
            [
             0.1111111111111111,
             "#000012"
            ],
            [
             0.2222222222222222,
             "#000013"
            ],
            [
             0.3333333333333333,
             "#000014"
            ],
            [
             0.4444444444444444,
             "#000015"
            ],
            [
             0.5555555555555556,
             "#000016"
            ],
            [
             0.6666666666666666,
             "#000017"
            ],
            [
             0.7777777777777778,
             "#000018"
            ],
            [
             0.8888888888888888,
             "#000019"
            ],
            [
             1.0,
             "#000020"
            ]
           ]
          },
          "colorscale": {
           "diverging": [
            [
             0.0,
             "#000021"
            ],
            [
             0.1,
             "#000022"
            ],
            [
             0.2,
             "#000023"
            ],
            [
             0.3,
             "#000024"
            ],
            [
             0.4,
             "#000025"
            ],
            [
             0.5,
             "#000026"
            ],
            [
             0.6,
             "#000027"
            ],
            [
             0.7,
             "#000028"
            ],
            [
             0.8,
             "#000029"
            ],
            [
             0.9,
             "#000030"
            ],
            [
             1.0,
             "#000031"
            ]
           ],
           "sequential": [
            [
             0.0,
             "#000011"
            ],
            [
             0.1111111111111111,
             "#000012"
            ],
            [
             0.2222222222222222,
             "#000013"
            ],
            [
             0.3333333333333333,
             "#000014"
            ],
            [
             0.4444444444444444,
             "#000015"
            ],
            [
             0.5555555555555556,
             "#000016"
            ],
            [
             0.6666666666666666,
             "#000017"
            ],
            [
             0.7777777777777778,
             "#000018"
            ],
            [
             0.8888888888888888,
             "#000019"
            ],
            [
             1.0,
             "#000020"
            ]
           ],
           "sequentialminus": [
            [
             0.0,
             "#000011"
            ],
            [
             0.1111111111111111,
             "#000012"
            ],
            [
             0.2222222222222222,
             "#000013"
            ],
            [
             0.3333333333333333,
             "#000014"
            ],
            [
             0.4444444444444444,
             "#000015"
            ],
            [
             0.5555555555555556,
             "#000016"
            ],
            [
             0.6666666666666666,
             "#000017"
            ],
            [
             0.7777777777777778,
             "#000018"
            ],
            [
             0.8888888888888888,
             "#000019"
            ],
            [
             1.0,
             "#000020"
            ]
           ]
          },
          "colorway": [
           "#000001",
           "#000002",
           "#000003",
           "#000004",
           "#000005",
           "#000006",
           "#000007",
           "#000008",
           "#000009",
           "#000010"
          ]
         }
        },
        "xaxis": {
         "anchor": "y",
         "domain": [
          0.0,
          1.0
         ],
         "title": {
          "text": "Lap Number"
         }
        },
        "yaxis": {
         "anchor": "x",
         "domain": [
          0.0,
          1.0
         ],
         "title": {
          "text": "Position"
         },
         "autorange": "reversed"
        },
        "legend": {
         "title": {
          "text": "Driver"
         },
         "tracegroupgap": 0
        },
        "title": {
         "text": "DRIVER POSITION AFTER EACH LAP"
        }
       },
       "config": {
        "plotlyServerURL": "https://plot.ly"
       }
      }
     },
     "metadata": {},
     "output_type": "display_data",
     "jetTransient": {
      "display_id": null
     }
    }
   ],
   "execution_count": 66
  },
  {
   "metadata": {},
   "cell_type": "markdown",
   "source": "# TELEMETRY VISUALISATION",
   "id": "177ff8683c68cd8"
  },
  {
   "metadata": {
    "ExecuteTime": {
     "end_time": "2025-10-16T13:59:51.819030Z",
     "start_time": "2025-10-16T13:59:46.203163Z"
    }
   },
   "cell_type": "code",
   "source": [
    "fvt_driver = input(f\"Enter driver name: , {\"VER\", \"ALO\", \"HAM\", \"OCO\", \"RUS\", \"LEC\"} \")\n",
    "\n",
    "fast_lap = laps.pick_drivers(fvt_driver).pick_fastest()\n",
    "tel = fast_lap.get_telemetry()\n",
    "fig, ax = plt.subplots(figsize = (8,8))\n",
    "ax.set_title(f\"FASTEST LAP TRACK MAP -- {fast_lap.Driver} \")\n",
    "sc = ax.scatter(tel[\"X\"], tel[\"Y\"], c = tel[\"Speed\"],   cmap = \"plasma\", s = 4)\n",
    "plt.colorbar(sc, label = \"Speed (km/h)\")\n",
    "plt.show()"
   ],
   "id": "cc23e2cc93da086b",
   "outputs": [
    {
     "ename": "AttributeError",
     "evalue": "'NoneType' object has no attribute 'get_telemetry'",
     "output_type": "error",
     "traceback": [
      "\u001B[1;31m---------------------------------------------------------------------------\u001B[0m",
      "\u001B[1;31mAttributeError\u001B[0m                            Traceback (most recent call last)",
      "Cell \u001B[1;32mIn[67], line 4\u001B[0m\n\u001B[0;32m      1\u001B[0m fvt_driver \u001B[38;5;241m=\u001B[39m \u001B[38;5;28minput\u001B[39m(\u001B[38;5;124mf\u001B[39m\u001B[38;5;124m\"\u001B[39m\u001B[38;5;124mEnter driver name: , \u001B[39m\u001B[38;5;132;01m{\u001B[39;00m\u001B[38;5;124m\"\u001B[39m\u001B[38;5;124mVER\u001B[39m\u001B[38;5;124m\"\u001B[39m,\u001B[38;5;250m \u001B[39m\u001B[38;5;124m\"\u001B[39m\u001B[38;5;124mALO\u001B[39m\u001B[38;5;124m\"\u001B[39m,\u001B[38;5;250m \u001B[39m\u001B[38;5;124m\"\u001B[39m\u001B[38;5;124mHAM\u001B[39m\u001B[38;5;124m\"\u001B[39m,\u001B[38;5;250m \u001B[39m\u001B[38;5;124m\"\u001B[39m\u001B[38;5;124mOCO\u001B[39m\u001B[38;5;124m\"\u001B[39m,\u001B[38;5;250m \u001B[39m\u001B[38;5;124m\"\u001B[39m\u001B[38;5;124mRUS\u001B[39m\u001B[38;5;124m\"\u001B[39m,\u001B[38;5;250m \u001B[39m\u001B[38;5;124m\"\u001B[39m\u001B[38;5;124mLEC\u001B[39m\u001B[38;5;124m\"\u001B[39m\u001B[38;5;132;01m}\u001B[39;00m\u001B[38;5;124m \u001B[39m\u001B[38;5;124m\"\u001B[39m)\n\u001B[0;32m      3\u001B[0m fast_lap \u001B[38;5;241m=\u001B[39m laps\u001B[38;5;241m.\u001B[39mpick_drivers(fvt_driver)\u001B[38;5;241m.\u001B[39mpick_fastest()\n\u001B[1;32m----> 4\u001B[0m tel \u001B[38;5;241m=\u001B[39m \u001B[43mfast_lap\u001B[49m\u001B[38;5;241;43m.\u001B[39;49m\u001B[43mget_telemetry\u001B[49m()\n\u001B[0;32m      5\u001B[0m fig, ax \u001B[38;5;241m=\u001B[39m plt\u001B[38;5;241m.\u001B[39msubplots(figsize \u001B[38;5;241m=\u001B[39m (\u001B[38;5;241m8\u001B[39m,\u001B[38;5;241m8\u001B[39m))\n\u001B[0;32m      6\u001B[0m ax\u001B[38;5;241m.\u001B[39mset_title(\u001B[38;5;124mf\u001B[39m\u001B[38;5;124m\"\u001B[39m\u001B[38;5;124mFASTEST LAP TRACK MAP -- \u001B[39m\u001B[38;5;132;01m{\u001B[39;00mfast_lap\u001B[38;5;241m.\u001B[39mDriver\u001B[38;5;132;01m}\u001B[39;00m\u001B[38;5;124m \u001B[39m\u001B[38;5;124m\"\u001B[39m)\n",
      "\u001B[1;31mAttributeError\u001B[0m: 'NoneType' object has no attribute 'get_telemetry'"
     ]
    }
   ],
   "execution_count": 67
  },
  {
   "metadata": {},
   "cell_type": "markdown",
   "source": "# pit stop analysis",
   "id": "6238fca9dc4e2583"
  },
  {
   "metadata": {
    "ExecuteTime": {
     "end_time": "2025-10-16T13:59:51.853353900Z",
     "start_time": "2025-10-15T19:46:47.962510Z"
    }
   },
   "cell_type": "code",
   "source": [
    "pit_counts = laps.groupby('Driver')['PitOutTime'].count().sort_values()\n",
    "fig = px.bar(\n",
    "    pit_counts,\n",
    "    orientation='h',\n",
    "    title='Number of Pit Stops per Driver',\n",
    "    labels={'value': 'Pit Stops', 'index': 'Driver'},\n",
    ")\n",
    "fig.show()\n"
   ],
   "id": "3931065251c4f365",
   "outputs": [
    {
     "data": {
      "application/vnd.plotly.v1+json": {
       "data": [
        {
         "hovertemplate": "variable=PitOutTime<br>Pit Stops=%{x}<br>Driver=%{y}<extra></extra>",
         "legendgroup": "PitOutTime",
         "marker": {
          "color": "#636efa",
          "pattern": {
           "shape": ""
          }
         },
         "name": "PitOutTime",
         "orientation": "h",
         "showlegend": true,
         "textposition": "auto",
         "x": {
          "dtype": "i1",
          "bdata": "AQEBAQEBAQECAgICAgICAgIDAwU="
         },
         "xaxis": "x",
         "y": [
          "DEV",
          "BOT",
          "PIA",
          "MAG",
          "RUS",
          "VER",
          "TSU",
          "STR",
          "SAI",
          "LEC",
          "HAM",
          "NOR",
          "OCO",
          "GAS",
          "ALO",
          "ALB",
          "ZHO",
          "HUL",
          "SAR",
          "PER"
         ],
         "yaxis": "y",
         "type": "bar"
        }
       ],
       "layout": {
        "template": {
         "data": {
          "histogram2dcontour": [
           {
            "type": "histogram2dcontour",
            "colorbar": {
             "outlinewidth": 0,
             "ticks": ""
            },
            "colorscale": [
             [
              0.0,
              "#0d0887"
             ],
             [
              0.1111111111111111,
              "#46039f"
             ],
             [
              0.2222222222222222,
              "#7201a8"
             ],
             [
              0.3333333333333333,
              "#9c179e"
             ],
             [
              0.4444444444444444,
              "#bd3786"
             ],
             [
              0.5555555555555556,
              "#d8576b"
             ],
             [
              0.6666666666666666,
              "#ed7953"
             ],
             [
              0.7777777777777778,
              "#fb9f3a"
             ],
             [
              0.8888888888888888,
              "#fdca26"
             ],
             [
              1.0,
              "#f0f921"
             ]
            ]
           }
          ],
          "choropleth": [
           {
            "type": "choropleth",
            "colorbar": {
             "outlinewidth": 0,
             "ticks": ""
            }
           }
          ],
          "histogram2d": [
           {
            "type": "histogram2d",
            "colorbar": {
             "outlinewidth": 0,
             "ticks": ""
            },
            "colorscale": [
             [
              0.0,
              "#0d0887"
             ],
             [
              0.1111111111111111,
              "#46039f"
             ],
             [
              0.2222222222222222,
              "#7201a8"
             ],
             [
              0.3333333333333333,
              "#9c179e"
             ],
             [
              0.4444444444444444,
              "#bd3786"
             ],
             [
              0.5555555555555556,
              "#d8576b"
             ],
             [
              0.6666666666666666,
              "#ed7953"
             ],
             [
              0.7777777777777778,
              "#fb9f3a"
             ],
             [
              0.8888888888888888,
              "#fdca26"
             ],
             [
              1.0,
              "#f0f921"
             ]
            ]
           }
          ],
          "heatmap": [
           {
            "type": "heatmap",
            "colorbar": {
             "outlinewidth": 0,
             "ticks": ""
            },
            "colorscale": [
             [
              0.0,
              "#0d0887"
             ],
             [
              0.1111111111111111,
              "#46039f"
             ],
             [
              0.2222222222222222,
              "#7201a8"
             ],
             [
              0.3333333333333333,
              "#9c179e"
             ],
             [
              0.4444444444444444,
              "#bd3786"
             ],
             [
              0.5555555555555556,
              "#d8576b"
             ],
             [
              0.6666666666666666,
              "#ed7953"
             ],
             [
              0.7777777777777778,
              "#fb9f3a"
             ],
             [
              0.8888888888888888,
              "#fdca26"
             ],
             [
              1.0,
              "#f0f921"
             ]
            ]
           }
          ],
          "contourcarpet": [
           {
            "type": "contourcarpet",
            "colorbar": {
             "outlinewidth": 0,
             "ticks": ""
            }
           }
          ],
          "contour": [
           {
            "type": "contour",
            "colorbar": {
             "outlinewidth": 0,
             "ticks": ""
            },
            "colorscale": [
             [
              0.0,
              "#0d0887"
             ],
             [
              0.1111111111111111,
              "#46039f"
             ],
             [
              0.2222222222222222,
              "#7201a8"
             ],
             [
              0.3333333333333333,
              "#9c179e"
             ],
             [
              0.4444444444444444,
              "#bd3786"
             ],
             [
              0.5555555555555556,
              "#d8576b"
             ],
             [
              0.6666666666666666,
              "#ed7953"
             ],
             [
              0.7777777777777778,
              "#fb9f3a"
             ],
             [
              0.8888888888888888,
              "#fdca26"
             ],
             [
              1.0,
              "#f0f921"
             ]
            ]
           }
          ],
          "surface": [
           {
            "type": "surface",
            "colorbar": {
             "outlinewidth": 0,
             "ticks": ""
            },
            "colorscale": [
             [
              0.0,
              "#0d0887"
             ],
             [
              0.1111111111111111,
              "#46039f"
             ],
             [
              0.2222222222222222,
              "#7201a8"
             ],
             [
              0.3333333333333333,
              "#9c179e"
             ],
             [
              0.4444444444444444,
              "#bd3786"
             ],
             [
              0.5555555555555556,
              "#d8576b"
             ],
             [
              0.6666666666666666,
              "#ed7953"
             ],
             [
              0.7777777777777778,
              "#fb9f3a"
             ],
             [
              0.8888888888888888,
              "#fdca26"
             ],
             [
              1.0,
              "#f0f921"
             ]
            ]
           }
          ],
          "mesh3d": [
           {
            "type": "mesh3d",
            "colorbar": {
             "outlinewidth": 0,
             "ticks": ""
            }
           }
          ],
          "scatter": [
           {
            "marker": {
             "line": {
              "color": "#283442"
             }
            },
            "type": "scatter"
           }
          ],
          "parcoords": [
           {
            "type": "parcoords",
            "line": {
             "colorbar": {
              "outlinewidth": 0,
              "ticks": ""
             }
            }
           }
          ],
          "scatterpolargl": [
           {
            "type": "scatterpolargl",
            "marker": {
             "colorbar": {
              "outlinewidth": 0,
              "ticks": ""
             }
            }
           }
          ],
          "bar": [
           {
            "error_x": {
             "color": "#f2f5fa"
            },
            "error_y": {
             "color": "#f2f5fa"
            },
            "marker": {
             "line": {
              "color": "rgb(17,17,17)",
              "width": 0.5
             },
             "pattern": {
              "fillmode": "overlay",
              "size": 10,
              "solidity": 0.2
             }
            },
            "type": "bar"
           }
          ],
          "scattergeo": [
           {
            "type": "scattergeo",
            "marker": {
             "colorbar": {
              "outlinewidth": 0,
              "ticks": ""
             }
            }
           }
          ],
          "scatterpolar": [
           {
            "type": "scatterpolar",
            "marker": {
             "colorbar": {
              "outlinewidth": 0,
              "ticks": ""
             }
            }
           }
          ],
          "histogram": [
           {
            "marker": {
             "pattern": {
              "fillmode": "overlay",
              "size": 10,
              "solidity": 0.2
             }
            },
            "type": "histogram"
           }
          ],
          "scattergl": [
           {
            "marker": {
             "line": {
              "color": "#283442"
             }
            },
            "type": "scattergl"
           }
          ],
          "scatter3d": [
           {
            "type": "scatter3d",
            "line": {
             "colorbar": {
              "outlinewidth": 0,
              "ticks": ""
             }
            },
            "marker": {
             "colorbar": {
              "outlinewidth": 0,
              "ticks": ""
             }
            }
           }
          ],
          "scattermap": [
           {
            "type": "scattermap",
            "marker": {
             "colorbar": {
              "outlinewidth": 0,
              "ticks": ""
             }
            }
           }
          ],
          "scattermapbox": [
           {
            "type": "scattermapbox",
            "marker": {
             "colorbar": {
              "outlinewidth": 0,
              "ticks": ""
             }
            }
           }
          ],
          "scatterternary": [
           {
            "type": "scatterternary",
            "marker": {
             "colorbar": {
              "outlinewidth": 0,
              "ticks": ""
             }
            }
           }
          ],
          "scattercarpet": [
           {
            "type": "scattercarpet",
            "marker": {
             "colorbar": {
              "outlinewidth": 0,
              "ticks": ""
             }
            }
           }
          ],
          "carpet": [
           {
            "aaxis": {
             "endlinecolor": "#A2B1C6",
             "gridcolor": "#506784",
             "linecolor": "#506784",
             "minorgridcolor": "#506784",
             "startlinecolor": "#A2B1C6"
            },
            "baxis": {
             "endlinecolor": "#A2B1C6",
             "gridcolor": "#506784",
             "linecolor": "#506784",
             "minorgridcolor": "#506784",
             "startlinecolor": "#A2B1C6"
            },
            "type": "carpet"
           }
          ],
          "table": [
           {
            "cells": {
             "fill": {
              "color": "#506784"
             },
             "line": {
              "color": "rgb(17,17,17)"
             }
            },
            "header": {
             "fill": {
              "color": "#2a3f5f"
             },
             "line": {
              "color": "rgb(17,17,17)"
             }
            },
            "type": "table"
           }
          ],
          "barpolar": [
           {
            "marker": {
             "line": {
              "color": "rgb(17,17,17)",
              "width": 0.5
             },
             "pattern": {
              "fillmode": "overlay",
              "size": 10,
              "solidity": 0.2
             }
            },
            "type": "barpolar"
           }
          ],
          "pie": [
           {
            "automargin": true,
            "type": "pie"
           }
          ]
         },
         "layout": {
          "autotypenumbers": "strict",
          "colorway": [
           "#636efa",
           "#EF553B",
           "#00cc96",
           "#ab63fa",
           "#FFA15A",
           "#19d3f3",
           "#FF6692",
           "#B6E880",
           "#FF97FF",
           "#FECB52"
          ],
          "font": {
           "color": "#f2f5fa"
          },
          "hovermode": "closest",
          "hoverlabel": {
           "align": "left"
          },
          "paper_bgcolor": "rgb(17,17,17)",
          "plot_bgcolor": "rgb(17,17,17)",
          "polar": {
           "bgcolor": "rgb(17,17,17)",
           "angularaxis": {
            "gridcolor": "#506784",
            "linecolor": "#506784",
            "ticks": ""
           },
           "radialaxis": {
            "gridcolor": "#506784",
            "linecolor": "#506784",
            "ticks": ""
           }
          },
          "ternary": {
           "bgcolor": "rgb(17,17,17)",
           "aaxis": {
            "gridcolor": "#506784",
            "linecolor": "#506784",
            "ticks": ""
           },
           "baxis": {
            "gridcolor": "#506784",
            "linecolor": "#506784",
            "ticks": ""
           },
           "caxis": {
            "gridcolor": "#506784",
            "linecolor": "#506784",
            "ticks": ""
           }
          },
          "coloraxis": {
           "colorbar": {
            "outlinewidth": 0,
            "ticks": ""
           }
          },
          "colorscale": {
           "sequential": [
            [
             0.0,
             "#0d0887"
            ],
            [
             0.1111111111111111,
             "#46039f"
            ],
            [
             0.2222222222222222,
             "#7201a8"
            ],
            [
             0.3333333333333333,
             "#9c179e"
            ],
            [
             0.4444444444444444,
             "#bd3786"
            ],
            [
             0.5555555555555556,
             "#d8576b"
            ],
            [
             0.6666666666666666,
             "#ed7953"
            ],
            [
             0.7777777777777778,
             "#fb9f3a"
            ],
            [
             0.8888888888888888,
             "#fdca26"
            ],
            [
             1.0,
             "#f0f921"
            ]
           ],
           "sequentialminus": [
            [
             0.0,
             "#0d0887"
            ],
            [
             0.1111111111111111,
             "#46039f"
            ],
            [
             0.2222222222222222,
             "#7201a8"
            ],
            [
             0.3333333333333333,
             "#9c179e"
            ],
            [
             0.4444444444444444,
             "#bd3786"
            ],
            [
             0.5555555555555556,
             "#d8576b"
            ],
            [
             0.6666666666666666,
             "#ed7953"
            ],
            [
             0.7777777777777778,
             "#fb9f3a"
            ],
            [
             0.8888888888888888,
             "#fdca26"
            ],
            [
             1.0,
             "#f0f921"
            ]
           ],
           "diverging": [
            [
             0,
             "#8e0152"
            ],
            [
             0.1,
             "#c51b7d"
            ],
            [
             0.2,
             "#de77ae"
            ],
            [
             0.3,
             "#f1b6da"
            ],
            [
             0.4,
             "#fde0ef"
            ],
            [
             0.5,
             "#f7f7f7"
            ],
            [
             0.6,
             "#e6f5d0"
            ],
            [
             0.7,
             "#b8e186"
            ],
            [
             0.8,
             "#7fbc41"
            ],
            [
             0.9,
             "#4d9221"
            ],
            [
             1,
             "#276419"
            ]
           ]
          },
          "xaxis": {
           "gridcolor": "#283442",
           "linecolor": "#506784",
           "ticks": "",
           "title": {
            "standoff": 15
           },
           "zerolinecolor": "#283442",
           "automargin": true,
           "zerolinewidth": 2
          },
          "yaxis": {
           "gridcolor": "#283442",
           "linecolor": "#506784",
           "ticks": "",
           "title": {
            "standoff": 15
           },
           "zerolinecolor": "#283442",
           "automargin": true,
           "zerolinewidth": 2
          },
          "scene": {
           "xaxis": {
            "backgroundcolor": "rgb(17,17,17)",
            "gridcolor": "#506784",
            "linecolor": "#506784",
            "showbackground": true,
            "ticks": "",
            "zerolinecolor": "#C8D4E3",
            "gridwidth": 2
           },
           "yaxis": {
            "backgroundcolor": "rgb(17,17,17)",
            "gridcolor": "#506784",
            "linecolor": "#506784",
            "showbackground": true,
            "ticks": "",
            "zerolinecolor": "#C8D4E3",
            "gridwidth": 2
           },
           "zaxis": {
            "backgroundcolor": "rgb(17,17,17)",
            "gridcolor": "#506784",
            "linecolor": "#506784",
            "showbackground": true,
            "ticks": "",
            "zerolinecolor": "#C8D4E3",
            "gridwidth": 2
           }
          },
          "shapedefaults": {
           "line": {
            "color": "#f2f5fa"
           }
          },
          "annotationdefaults": {
           "arrowcolor": "#f2f5fa",
           "arrowhead": 0,
           "arrowwidth": 1
          },
          "geo": {
           "bgcolor": "rgb(17,17,17)",
           "landcolor": "rgb(17,17,17)",
           "subunitcolor": "#506784",
           "showland": true,
           "showlakes": true,
           "lakecolor": "rgb(17,17,17)"
          },
          "title": {
           "x": 0.05
          },
          "updatemenudefaults": {
           "bgcolor": "#506784",
           "borderwidth": 0
          },
          "sliderdefaults": {
           "bgcolor": "#C8D4E3",
           "borderwidth": 1,
           "bordercolor": "rgb(17,17,17)",
           "tickwidth": 0
          },
          "mapbox": {
           "style": "dark"
          }
         }
        },
        "xaxis": {
         "anchor": "y",
         "domain": [
          0.0,
          1.0
         ],
         "title": {
          "text": "Pit Stops"
         }
        },
        "yaxis": {
         "anchor": "x",
         "domain": [
          0.0,
          1.0
         ],
         "title": {
          "text": "Driver"
         }
        },
        "legend": {
         "title": {
          "text": "variable"
         },
         "tracegroupgap": 0
        },
        "title": {
         "text": "Number of Pit Stops per Driver"
        },
        "barmode": "relative"
       },
       "config": {
        "plotlyServerURL": "https://plot.ly"
       }
      }
     },
     "metadata": {},
     "output_type": "display_data",
     "jetTransient": {
      "display_id": null
     }
    }
   ],
   "execution_count": 43
  },
  {
   "metadata": {},
   "cell_type": "markdown",
   "source": "# Sample UI",
   "id": "1855fc4da9c066e"
  },
  {
   "metadata": {
    "ExecuteTime": {
     "end_time": "2025-10-16T14:30:24.025540Z",
     "start_time": "2025-10-16T14:30:24.005627Z"
    }
   },
   "cell_type": "code",
   "source": [
    "%%writefile f1_app.py\n",
    "import streamlit as st\n",
    "import fastf1\n",
    "import os\n",
    "import pandas as pd\n",
    "import plotly.express as px\n",
    "from fastf1 import plotting\n",
    "\n",
    "\n",
    "CACHE_DIR = 'cache1'\n",
    "os.makedirs(CACHE_DIR, exist_ok=True)\n",
    "fastf1.Cache.enable_cache(CACHE_DIR)\n",
    "\n",
    "\n",
    "plotting.setup_mpl()\n",
    "\n",
    "\n",
    "st.title(\"F1 Race Analyzer \")\n",
    "\n",
    "st.image(r\"D:\\f_1\\pythonProject\\images\\skysports-f1-leclerc-start_5735012.jpg\",\n",
    "         caption = \"dive into F1 DATA ANALYTICS\",\n",
    "         use_container_width= True)\n",
    "\n",
    "\n",
    "st.sidebar.header(\"Data Selection\")\n",
    "\n",
    "year = st.sidebar.selectbox(\"Select Year\", [2024, 2023, 2022], index=0)\n",
    "race = st.sidebar.text_input(\"Enter Race Name (e.g., Monaco, Bahrain):\", \"Monaco\")\n",
    "session_type = st.sidebar.selectbox(\"Session Type\", [\"R\", \"Q\", \"FP1\", \"S\"], index=0)\n",
    "\n",
    "\n",
    "if 'session' not in st.session_state:\n",
    "    st.session_state.session = None\n",
    "if 'laps_session' not in st.session_state:\n",
    "    st.session_state.laps_session = pd.DataFrame()\n",
    "\n",
    "\n",
    "\n",
    "if st.sidebar.button(\"Load F1 Data\"):\n",
    "    with st.spinner(f\"Loading data for {race} {year} ({session_type})...\"):\n",
    "        try:\n",
    "\n",
    "            session = fastf1.get_session(year, race, session_type)\n",
    "            session.load(\n",
    "                laps=True,\n",
    "                telemetry=True,\n",
    "                weather=True,\n",
    "                messages=True\n",
    "            )\n",
    "\n",
    "\n",
    "            laps_session = session.laps.copy()\n",
    "\n",
    "            if laps_session.empty:\n",
    "                st.warning(\"No lap data found for this session.\")\n",
    "                st.session_state.laps_session = pd.DataFrame()\n",
    "            else:\n",
    "\n",
    "                laps_session.loc[:, \"LapTimeSeconds\"] = laps_session[\"LapTime\"].dt.total_seconds()\n",
    "                laps_session = laps_session.loc[laps_session['IsAccurate'] == True].reset_index(drop=True)\n",
    "\n",
    "                st.session_state.session = session\n",
    "                st.session_state.laps_session = laps_session\n",
    "                st.success(f\"✅ {session.event['EventName']} {year} loaded successfully!\")\n",
    "\n",
    "        except Exception as e:\n",
    "            st.error(f\"⚠️ Error loading session: {e}\")\n",
    "            st.session_state.session = None\n",
    "            st.session_state.laps_session = pd.DataFrame()\n",
    "\n",
    "\n",
    "if not st.session_state.laps_session.empty:\n",
    "    laps_session = st.session_state.laps_session\n",
    "    driver_list = sorted(laps_session[\"Driver\"].unique())\n",
    "\n",
    "    st.header(f\"Analysis: {st.session_state.session.event['EventName']} {year} ({session_type})\")\n",
    "\n",
    "\n",
    "    default_drivers = driver_list[:min(len(driver_list), 4)]\n",
    "    selected_drivers = st.multiselect(\n",
    "        \"Select Drivers for Comparison\",\n",
    "        driver_list,\n",
    "        default=default_drivers\n",
    "    )\n",
    "\n",
    "    filtered_laps = laps_session[laps_session[\"Driver\"].isin(selected_drivers)].copy()\n",
    "\n",
    "    if not filtered_laps.empty:\n",
    "\n",
    "\n",
    "        tab1, tab2, tab3 = st.tabs([\"Lap Time Distribution (Box Plot)\", \"Race Progression (Line Plot)\", \"Telemetry\"])\n",
    "\n",
    "        with tab1:\n",
    "            st.subheader(\"Lap Time Consistency and Distribution\")\n",
    "\n",
    "            fig_box = px.box(\n",
    "                filtered_laps,\n",
    "                x=\"Driver\",\n",
    "                y=\"LapTimeSeconds\",\n",
    "                color=\"Compound\",\n",
    "                title=f\"Lap Time Distribution by Compound – {race} {year}\",\n",
    "                points=\"all\",\n",
    "                hover_data=[\"LapNumber\", \"Time\"]\n",
    "            )\n",
    "            fig_box.update_layout(yaxis_title=\"Lap Time (Seconds)\")\n",
    "            st.plotly_chart(fig_box, use_container_width=True)\n",
    "            st.caption(\"Lower boxes indicate faster and more consistent performance. The color shows which tyre compound was used.\")\n",
    "\n",
    "        with tab2:\n",
    "            st.subheader(\"Session Progression (Lap Time over Distance)\")\n",
    "\n",
    "\n",
    "\n",
    "            fig_line = px.line(\n",
    "                filtered_laps,\n",
    "                x=\"LapNumber\",\n",
    "                y=\"LapTimeSeconds\",\n",
    "                color=\"Driver\",\n",
    "                line_group=\"Driver\",\n",
    "                hover_data=[\"Compound\", \"TyreLife\", \"PitOutTime\"],\n",
    "                title=f\"Lap Times Over The Session – {race} {year}\",\n",
    "            )\n",
    "\n",
    "\n",
    "            fig_line.update_traces(mode='lines+markers', marker=dict(size=4))\n",
    "            fig_line.update_layout(\n",
    "                xaxis_title=\"Lap Number\",\n",
    "                yaxis_title=\"Lap Time (Seconds)\",\n",
    "                hovermode=\"x unified\"\n",
    "            )\n",
    "            st.plotly_chart(fig_line, use_container_width=True)\n",
    "            st.caption(\"This chart shows how lap times evolve. Jumps often indicate a **pit stop** or **safety car** period. The steep increase in time (degradation) shows tyre wear.\")\n",
    "\n",
    "\n",
    "        with tab3:\n",
    "            st.subheader(\"Driver Telemetry Comparison on Fastest Lap\")\n",
    "\n",
    "            col1, col2 = st.columns(2)\n",
    "            driver_a = col1.selectbox(\"Driver A\", driver_list, index=0)\n",
    "            driver_b = col2.selectbox(\"Driver B\", driver_list, index=1)\n",
    "\n",
    "\n",
    "            metric = st.selectbox(\"Select Telemetry Metric\", ['Speed', 'RPM', 'Throttle', 'Brake'], index=0)\n",
    "\n",
    "            if driver_a and driver_b and driver_a != driver_b:\n",
    "\n",
    "                with st.spinner(f\"Processing fastest lap telemetry for {driver_a} and {driver_b}...\"):\n",
    "\n",
    "                    lap_a = laps_session.pick_driver(driver_a).pick_fastest()\n",
    "                    lap_b = laps_session.pick_driver(driver_b).pick_fastest()\n",
    "\n",
    "                    # 2. Check for required data (CarData is essential for speed/throttle/brake)\n",
    "                    if lap_a is None or lap_b is None:\n",
    "                        st.warning(\"One or both selected drivers did not complete an accurate lap.\")\n",
    "\n",
    "\n",
    "\n",
    "                    try:\n",
    "                        tel_a = lap_a.get_telemetry().add_distance()\n",
    "                        tel_b = lap_b.get_telemetry().add_distance()\n",
    "                        tel_merged = tel_a.merge_channels(tel_b)\n",
    "\n",
    "                        current_session = st.session_state.session\n",
    "                        color_a = plotting.get_team_color(current_session, lap_a['Team'])\n",
    "                        color_b = plotting.get_team_color(current_session, lap_b['Team'])\n",
    "\n",
    "                        fig, ax = plt.subplots(figsize=(10, 6))\n",
    "\n",
    "                        ax.plot(tel_merged['Distance'], tel_merged[f'{metric}_x'], label=driver_a, color=color_a)\n",
    "                        ax.plot(tel_merged['Distance'], tel_merged[f'{metric}_y'], label=driver_b, color=color_b)\n",
    "\n",
    "                        ax.set_xlabel(\"Distance (m)\")\n",
    "                        ax.set_ylabel(f\"{metric}\")\n",
    "                        ax.set_title(f\"{metric} Comparison: {driver_a} vs {driver_b}\", fontsize=14)\n",
    "                        ax.legend()\n",
    "                        ax.grid(True, linestyle='--', alpha=0.6)\n",
    "\n",
    "                        st.pyplot(fig)\n",
    "                        st.caption(f\"Comparison of {metric} trace on the fastest lap. The X-axis is aligned distance around the track.\")\n",
    "\n",
    "                    except Exception as e:\n",
    "                        # This catch is now highly specific to telemetry access failure\n",
    "                        st.warning(f\"Could not plot telemetry for these drivers. Data might be missing or corrupted. Error: {e}\")\n",
    "                        st.info(\"Try selecting a different race/session, or a major team/driver (e.g., VER vs. HAM).\")\n",
    "\n"
   ],
   "id": "3662e818656c9a69",
   "outputs": [
    {
     "name": "stdout",
     "output_type": "stream",
     "text": [
      "Overwriting f1_app.py\n"
     ]
    }
   ],
   "execution_count": 74
  }
 ],
 "metadata": {
  "kernelspec": {
   "display_name": "Python 3",
   "language": "python",
   "name": "python3"
  },
  "language_info": {
   "codemirror_mode": {
    "name": "ipython",
    "version": 2
   },
   "file_extension": ".py",
   "mimetype": "text/x-python",
   "name": "python",
   "nbconvert_exporter": "python",
   "pygments_lexer": "ipython2",
   "version": "2.7.6"
  }
 },
 "nbformat": 4,
 "nbformat_minor": 5
}
